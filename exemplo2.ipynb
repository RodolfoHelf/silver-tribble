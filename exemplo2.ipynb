{
  "cells": [
    {
      "metadata": {},
      "cell_type": "markdown",
      "source": "# Introdução a manipulação de dados\n## Arrays (vetores) e matrizes"
    },
    {
      "metadata": {},
      "cell_type": "markdown",
      "source": "Uma das maneiras mais fáceis de trabalhar com dados em `Python` consiste em usar a estrutura `array` da biblioteca `numpy`.\n\nO exemplo seguinte importa a biblioteca `nump`y e define um `array` com uma dimensão (i.e., um vetor) que armazena alguns números reais dentro:"
    },
    {
      "metadata": {
        "trusted": true
      },
      "cell_type": "code",
      "source": "import numpy as np\n\na = np.array([0.1, 1.5, 3.2])\nprint(\"Array cujo conteudo é: \", a)\nprint(\"Seu tipo tipo é\", type(a))\nprint(\"Seus elementos são do tipo: \", a.dtype)",
      "execution_count": 3,
      "outputs": [
        {
          "output_type": "stream",
          "text": "Array cujo conteudo é:  [0.1 1.5 3.2]\nSeu tipo tipo é <class 'numpy.ndarray'>\nSeus elementos são do tipo:  float64\n",
          "name": "stdout"
        }
      ]
    },
    {
      "metadata": {},
      "cell_type": "markdown",
      "source": "Você também pode definir `arrays` de números inteiros, `strings` e outros formatos/tipos suportados pela linguagem. \n\nVeja os exemplos:"
    },
    {
      "metadata": {
        "trusted": true
      },
      "cell_type": "code",
      "source": "import numpy as np\n\nb = np.array([1, 3, 5, 6, 10])\nprint(\"Array cujo conteúdo é: \", b)\nprint(\"Seu tipo tipo é\", type(b))\nprint(\"Seus elementos são do tipo: \", b.dtype)\n\nprint(\"\\n\") # muda de linha\n\nc = np.array(['ana', 'leonardo', 'cesar', 'joao', 'maria'])\nprint(\"Array cujo conteúdo é: \", c)\nprint(\"Seu tipo tipo é\", type(c))\nprint(\"Seus elementos são do tipo: \", c.dtype)",
      "execution_count": 2,
      "outputs": [
        {
          "output_type": "stream",
          "text": "Array cujo conteúdo é:  [ 1  3  5  6 10]\nSeu tipo tipo é <class 'numpy.ndarray'>\nSeus elementos são do tipo:  int64\n\n\nArray cujo conteúdo é:  ['ana' 'leonardo' 'cesar' 'joao' 'maria']\nSeu tipo tipo é <class 'numpy.ndarray'>\nSeus elementos são do tipo:  <U8\n",
          "name": "stdout"
        }
      ]
    },
    {
      "metadata": {},
      "cell_type": "markdown",
      "source": "Os arrays `numpy` possuem uma série de propriedades que podem ser úteis:"
    },
    {
      "metadata": {
        "trusted": true
      },
      "cell_type": "code",
      "source": "import numpy as np\n\nd = np.array([1.1, 2.1, 3.1, 4.2, 5.2, 6.2])\nprint(\"Conteudo do array: \", d)\nprint(\"Número de linhas e colunas: \", np.shape(d))\nprint(\"Quantidade de elementos: \", np.size(d))\nprint(\"colunas: \", len(d))\nprint(\"Dimensões: \", np.ndim(d))\nprint(\"Tipo:\", d.dtype, \"\\n\")\n\ne = np.reshape(d, (3,2)) # reorganiza para 2 linhas com 3 colunas\nprint(\"Conteudo do array:\\n\", e)\nprint(\"Número de linhas e colunas: \", np.shape(e))\nprint(\"Quantidade de elementos: \", np.size(e))\nprint(\"Linhas: \", len(e))\nprint(\"Dimensões: \", np.ndim(e))\nprint(\"Tipo:\", e.dtype, '\\n')\n\nf = np.array([[1.1, 1.2, 1.3],[2.1, 2.2, 2.3],[3.1, 3.2, 3.3],[4.1, 3.2, 4.3]])\nprint(\"Conteudo do array:\\n\", f)\nprint(\"Número de linhas e colunas: \", np.shape(f))\nprint(\"Quantidade de elementos: \", np.size(f))\nprint(\"Linhas: \", len(f))\nprint(\"Dimensões: \", np.ndim(f))\nprint(\"Tipo:\", f.dtype)",
      "execution_count": 7,
      "outputs": [
        {
          "output_type": "stream",
          "text": "Conteudo do array:  [1.1 2.1 3.1 4.2 5.2 6.2]\nNúmero de linhas e colunas:  (6,)\nQuantidade de elementos:  6\ncolunas:  6\nDimensões:  1\nTipo: float64 \n\nConteudo do array:\n [[1.1 2.1]\n [3.1 4.2]\n [5.2 6.2]]\nNúmero de linhas e colunas:  (3, 2)\nQuantidade de elementos:  6\nLinhas:  3\nDimensões:  2\nTipo: float64 \n\nConteudo do array:\n [[1.1 1.2 1.3]\n [2.1 2.2 2.3]\n [3.1 3.2 3.3]\n [4.1 3.2 4.3]]\nNúmero de linhas e colunas:  (4, 3)\nQuantidade de elementos:  12\nLinhas:  4\nDimensões:  2\nTipo: float64\n",
          "name": "stdout"
        }
      ]
    },
    {
      "metadata": {},
      "cell_type": "markdown",
      "source": "## Exercícios\n\nUse as duas células seguintes para resolver os exercícios.\n\n1. Defina um array de números inteiros que tenha 2 dimensões e imprima-o na tela. \n2. Defina um array de uma dimensão que tenha alguns nomes de cores. Imprima o seu conteúdo na tela e use algum comando para mostrar quantos elementos ele tem. "
    },
    {
      "metadata": {
        "trusted": true
      },
      "cell_type": "code",
      "source": "import numpy as np\na = np.array([1,2,3,4,5,6])\nprint(a)",
      "execution_count": 9,
      "outputs": [
        {
          "output_type": "stream",
          "text": "[1 2 3 4 5 6]\n",
          "name": "stdout"
        }
      ]
    },
    {
      "metadata": {
        "trusted": true
      },
      "cell_type": "code",
      "source": "b = [\"verde\",\"vermelho\",\"azul\",\"rosa\"]\nprint(b)\nnp.size(b)",
      "execution_count": 11,
      "outputs": [
        {
          "output_type": "stream",
          "text": "['verde', 'vermelho', 'azul', 'rosa']\n",
          "name": "stdout"
        },
        {
          "output_type": "execute_result",
          "execution_count": 11,
          "data": {
            "text/plain": "4"
          },
          "metadata": {}
        }
      ]
    },
    {
      "metadata": {},
      "cell_type": "markdown",
      "source": "## Operações com arrays\n\nVocê pode indexar, i.e., selecionar um ou mais elementos de um array utilizando a seguinte notação:\n\n`array[linha, coluna...]`\n\nVeja os exemplos (perceba que a primeira linha é `0`, assim como a primeira coluna!):"
    },
    {
      "metadata": {
        "trusted": true
      },
      "cell_type": "code",
      "source": "import numpy as np\n\nf = np.array([[1.1, 1.2, 1.3],[2.1, 2.2, 2.3],[3.1, 3.2, 3.3],[4.1, 3.2, 4.3]])\n\nprint(f)\n\nprint(\"Alguns elementos selecionados: \")\n\ne1 = f[1,1] # devolve elemento na linha 2, coluna 2 (elementos iniciam em zero!)\nprint(e1)\n\ne2 = f[1,0] # linha dois, coluna 1\nprint(e2)",
      "execution_count": 4,
      "outputs": [
        {
          "output_type": "stream",
          "text": "[[1.1 1.2 1.3]\n [2.1 2.2 2.3]\n [3.1 3.2 3.3]\n [4.1 3.2 4.3]]\nAlguns elementos selecionados: \n2.2\n2.1\n",
          "name": "stdout"
        }
      ]
    },
    {
      "metadata": {},
      "cell_type": "markdown",
      "source": "Você pode atribuir, mudar valores, usando a mesma sintaxe:"
    },
    {
      "metadata": {
        "trusted": true
      },
      "cell_type": "code",
      "source": "f[1,1]=np.nan # nan significa 'not-a-number', i.e., sem valor\nf[2,2]=5.5\nf[1,0]=np.inf # inf significa 'infinity', i.e., número muito grande\nf[2,1]=np.inf\n\nprint(f)",
      "execution_count": 5,
      "outputs": [
        {
          "output_type": "stream",
          "text": "[[1.1 1.2 1.3]\n [inf nan 2.3]\n [3.1 inf 5.5]\n [4.1 3.2 4.3]]\n",
          "name": "stdout"
        }
      ]
    },
    {
      "metadata": {},
      "cell_type": "markdown",
      "source": "Você pode fazer uma série de verificações no array. \n\nVeja os exemplos:"
    },
    {
      "metadata": {
        "trusted": true
      },
      "cell_type": "code",
      "source": "# avalia todos os elementos e devolve uma estrutura que indica se cada um deles\n# é ou não do tipo 'nan':\nprint(np.isnan(f)) ",
      "execution_count": 6,
      "outputs": [
        {
          "output_type": "stream",
          "text": "[[False False False]\n [False  True False]\n [False False False]\n [False False False]]\n",
          "name": "stdout"
        }
      ]
    },
    {
      "metadata": {
        "collapsed": true,
        "trusted": false
      },
      "cell_type": "code",
      "source": "# avalia se os elementos são ou não do tipo 'inf:\nprint(np.isinf(f)) ",
      "execution_count": null,
      "outputs": []
    },
    {
      "metadata": {
        "trusted": true
      },
      "cell_type": "code",
      "source": "# descobre onde há um elemento do tipo 'nan' no array: \nprint(np.where(np.isnan(f)))",
      "execution_count": 7,
      "outputs": [
        {
          "output_type": "stream",
          "text": "(array([1]), array([1]))\n",
          "name": "stdout"
        }
      ]
    },
    {
      "metadata": {
        "collapsed": true,
        "trusted": false
      },
      "cell_type": "code",
      "source": "print(np.where(np.isinf(f)))",
      "execution_count": null,
      "outputs": []
    },
    {
      "metadata": {
        "collapsed": true,
        "trusted": false
      },
      "cell_type": "code",
      "source": "# modifica todos os valores 'inf' e 'nan' para '0.0':\nf[np.where(np.isinf(f))] = 0.0\nf[np.where(np.isnan(f))] = 0.0\nprint(f)",
      "execution_count": null,
      "outputs": []
    },
    {
      "metadata": {
        "collapsed": true,
        "trusted": false
      },
      "cell_type": "code",
      "source": "# retorna os índices dos elementos cujo valor é maior do que 4.2:\nprint(np.where(f>4.2))",
      "execution_count": null,
      "outputs": []
    },
    {
      "metadata": {},
      "cell_type": "markdown",
      "source": "## Exercício\n\nUse a célula seguinte para resolver o seguinte exercício:\n\n> Defina um array de números reais que tenha 3 dimensões, com elementos escolhidos por você, mas alguns deles devem ser maiores do que 5.0 e outros menores. Em seguida, faça com que todos os elementos maiores do que 5.0 tornem-se 'nan'. "
    },
    {
      "metadata": {
        "trusted": true
      },
      "cell_type": "code",
      "source": "a = np.arange(12.0).reshape(3,4)\na < 5\na[np.where(a > 5)] = np.nan\na",
      "execution_count": 22,
      "outputs": [
        {
          "output_type": "execute_result",
          "execution_count": 22,
          "data": {
            "text/plain": "array([[ 0.,  1.,  2.,  3.],\n       [ 4.,  5., nan, nan],\n       [nan, nan, nan, nan]])"
          },
          "metadata": {}
        }
      ]
    },
    {
      "metadata": {},
      "cell_type": "markdown",
      "source": "## Geração aleatória/randômica de números \n\nA biblioteca `numpy` tem várias funções prontas para a geração matrizes. \n\nVamos ver algumas delas (mas há muito mais):\n- np.zeros(x, y): gera uma matriz de `x` linhas e `c` colunas só com zeros.\n- np.ones(x, y): gera matriz só com `1`.\n- np.identity(): gera uma matriz identidade (quadrada)\n- np.eye(): gera uma matriz de qualquer tamanho, com diagonal principal com `1`\n\nAlém disso, há também a possibilidade de utilizar um gerador de números aleatórios.\n\nVeja os exemplos:"
    },
    {
      "metadata": {
        "trusted": false
      },
      "cell_type": "code",
      "source": "import numpy as np\n\na = np.zeros((3,5), dtype=float) # dtype especifica o tipo dos dados\n\n# mostra matriz gerada, com 3 linhas e 5 colunas, só com zeros \n# (do tipo ponto-flutuante, i.e., domínio dos números reais)\nprint(a) ",
      "execution_count": null,
      "outputs": []
    },
    {
      "metadata": {
        "collapsed": true,
        "trusted": false
      },
      "cell_type": "code",
      "source": "b = np.zeros((3,5), dtype=int) # matriz de números inteiros\nprint(b)",
      "execution_count": null,
      "outputs": []
    },
    {
      "metadata": {
        "collapsed": true,
        "trusted": false
      },
      "cell_type": "code",
      "source": "a = np.ones((2,10), dtype=int) # matriz 2 por 10, com 'uns'\nprint(a)",
      "execution_count": null,
      "outputs": []
    },
    {
      "metadata": {
        "trusted": false
      },
      "cell_type": "code",
      "source": "# matriz identidade com diagonal preenchida com 1 e o resto com 0\nc = np.identity(4, dtype=int) \nprint(c)",
      "execution_count": null,
      "outputs": []
    },
    {
      "metadata": {
        "collapsed": true,
        "trusted": false
      },
      "cell_type": "code",
      "source": "d = np.eye(4,3) # diagonal com 1 e o resto com 0\nprint(d)",
      "execution_count": null,
      "outputs": []
    },
    {
      "metadata": {
        "trusted": true
      },
      "cell_type": "code",
      "source": "# Gerador de números aleatórios\ngerador = np.random.RandomState() # define um gerador de números\nnlin = 10 # quantidade de linhas\nncol = 3  # quantidade de colunas\nX = gerador.rand(nlin, ncol) # gera matriz com as dimensões solicitadas\nprint(X)",
      "execution_count": 26,
      "outputs": [
        {
          "output_type": "stream",
          "text": "[[0.96893397 0.123285   0.98078615]\n [0.49323489 0.3929038  0.83004235]\n [0.07629743 0.84733773 0.05247088]\n [0.89332749 0.37043584 0.14210413]\n [0.7586178  0.49109744 0.5951293 ]\n [0.8408307  0.4166259  0.3449769 ]\n [0.95336277 0.1764267  0.91879916]\n [0.86196028 0.93748689 0.11838954]\n [0.1719771  0.08752312 0.56658317]\n [0.74193199 0.05709252 0.46493929]]\n",
          "name": "stdout"
        }
      ]
    },
    {
      "metadata": {
        "collapsed": true,
        "trusted": false
      },
      "cell_type": "code",
      "source": "print(np.round(X, 2)) # arredonda os números da matriz para 2 casas decimais",
      "execution_count": null,
      "outputs": []
    },
    {
      "metadata": {},
      "cell_type": "markdown",
      "source": "A biblioteca `numpy` permite realizarmos operações com matrizes:"
    },
    {
      "metadata": {
        "collapsed": true,
        "trusted": false
      },
      "cell_type": "code",
      "source": "print(X**2) # potência (matriz elevada a 2)",
      "execution_count": null,
      "outputs": []
    },
    {
      "metadata": {
        "collapsed": true,
        "trusted": false
      },
      "cell_type": "code",
      "source": "print(X**np.zeros((10,3), dtype=int)) # eleva X a matriz de zeros",
      "execution_count": null,
      "outputs": []
    },
    {
      "metadata": {
        "collapsed": true,
        "trusted": false
      },
      "cell_type": "code",
      "source": "Y = gerador.rand(nlin, ncol) # gera outra matriz aleatória\nprint(Y)",
      "execution_count": null,
      "outputs": []
    },
    {
      "metadata": {
        "collapsed": true,
        "trusted": false
      },
      "cell_type": "code",
      "source": "print(X+Y) # soma as duas",
      "execution_count": null,
      "outputs": []
    },
    {
      "metadata": {
        "collapsed": true,
        "trusted": false
      },
      "cell_type": "code",
      "source": "print(X*Y) # Multiplica",
      "execution_count": null,
      "outputs": []
    },
    {
      "metadata": {
        "collapsed": true,
        "trusted": false
      },
      "cell_type": "code",
      "source": "print(X/Y) # divide",
      "execution_count": null,
      "outputs": []
    },
    {
      "metadata": {
        "collapsed": true,
        "trusted": false
      },
      "cell_type": "code",
      "source": "np.sum(X) # soma os números da matriz X",
      "execution_count": null,
      "outputs": []
    },
    {
      "metadata": {
        "collapsed": true,
        "trusted": false
      },
      "cell_type": "code",
      "source": "np.var(X) # calcula a variancia dos números da matriz X",
      "execution_count": null,
      "outputs": []
    },
    {
      "metadata": {
        "collapsed": true,
        "trusted": false
      },
      "cell_type": "code",
      "source": "np.median(X) # calcula mediana ",
      "execution_count": null,
      "outputs": []
    },
    {
      "metadata": {
        "collapsed": true,
        "trusted": false
      },
      "cell_type": "code",
      "source": "np.std(Y) # calcula desvio padrão",
      "execution_count": null,
      "outputs": []
    },
    {
      "metadata": {
        "collapsed": true,
        "trusted": false
      },
      "cell_type": "code",
      "source": "np.min(X) # devolve valor mínimo",
      "execution_count": null,
      "outputs": []
    },
    {
      "metadata": {
        "collapsed": true,
        "trusted": false
      },
      "cell_type": "code",
      "source": "np.max(X) # devolve valor máximo",
      "execution_count": null,
      "outputs": []
    },
    {
      "metadata": {
        "collapsed": true,
        "trusted": false
      },
      "cell_type": "code",
      "source": "np.mean(X) # calcula média",
      "execution_count": null,
      "outputs": []
    },
    {
      "metadata": {
        "collapsed": true,
        "trusted": false
      },
      "cell_type": "code",
      "source": "np.cov(X) #covariancia",
      "execution_count": null,
      "outputs": []
    },
    {
      "metadata": {},
      "cell_type": "markdown",
      "source": "Alguns outros comandos e elementos interessantes da biblioteca:"
    },
    {
      "metadata": {
        "collapsed": true,
        "trusted": false
      },
      "cell_type": "code",
      "source": "print(X)\nprint(\"Elementos da última coluna: \")\nprint(X[:,2]) # devolve todos os elementos da 3a coluna",
      "execution_count": null,
      "outputs": []
    },
    {
      "metadata": {
        "collapsed": true,
        "trusted": false
      },
      "cell_type": "code",
      "source": "print(X[1]) # devolve a primeira linha da matriz",
      "execution_count": null,
      "outputs": []
    },
    {
      "metadata": {},
      "cell_type": "markdown",
      "source": "Os exemplos e exercícios anteriores foram, na verdade, realizados com estruturas em forma de arrays (arranjos com 1 ou duas dimensões). \n\nSe você desejar (ou precisar) trabalhar com matrizes de verdade, há outros comandos. Veja a seguir como criar uma matriz e perceba sua diferença para os arrays criados anteriormente..."
    },
    {
      "metadata": {
        "collapsed": true,
        "trusted": false
      },
      "cell_type": "code",
      "source": "# cria uma matriz de duas linhas com 3 colunas:\nm = np.matrix('1 2 3; 4 5 6') \nprint(m) # mostra a matriz na tela\nprint(\"'m' tem o seguinte tipo: \", type(m)) # mostra o tipo do elemento criado\n\n# cria uma matriz, com array (como antes):\na = np.array([[1, 2, 3],[4, 5, 6]]) \nprint(a) # mostra array na tela\nprint(\"'a' tem o seguinte tipo: \", type(a)) # mostra o tipo do elemento criado\n\n# veja como tipo de 'm' é diferente do de 'a' apesar de o conteúdo ser parecido!",
      "execution_count": null,
      "outputs": []
    },
    {
      "metadata": {},
      "cell_type": "markdown",
      "source": "Matrizes possuem algumas propriedades e operações extras:"
    },
    {
      "metadata": {
        "collapsed": true,
        "trusted": false
      },
      "cell_type": "code",
      "source": "print(m.I) # devolve a matriz inversa",
      "execution_count": null,
      "outputs": []
    },
    {
      "metadata": {
        "collapsed": true,
        "trusted": false
      },
      "cell_type": "code",
      "source": "n = np.matrix('1 2 3; 4 5 6') \nprint(np.multiply(m, n))",
      "execution_count": null,
      "outputs": []
    },
    {
      "metadata": {},
      "cell_type": "markdown",
      "source": "## Exercício\n\nUse a célula seguinte para resolver o exercício.\n\nUm professor elaborou 5 atividades valendo notas. Use uma matriz (ou um array) para armazenar as notas de 10 alunos, para essas 5 atividades (dica: um aluno por linha e uma atividade por coluna). Ao invés de inventar notas, use um gerador de números para sorteá-las aleatóriamente. Tenha em mente que o gerador visto gera valores entre 0.0 e 1.0, portanto, realize a transformação de escala para valores entre 0.0 e 10.0. \n\nApós gerar a matriz e escalar os valores, mostre a matriz resultante na tela. Depois, faça com que os valores da matriz sejam arredondados para 2 casas decimais após a vírgula.\n\nEm seguida, calcule a média aritmética simples das notas de cada aluno, mostrando sua média final. Coloque o resultado em um array e mostre-o na tela. \n\nFinalmente, calcule e mostre o desvio padrão da média dos alunos e também para cada atividade. "
    },
    {
      "metadata": {
        "trusted": true
      },
      "cell_type": "code",
      "source": "a = np.zeros((10,5))\nfor i in range(10):\n    for j in range(5):\n        a[i,j]= np.random.random()*10\nprint(np.round(a,2))\nb = np.round(a,2).sum(axis=1)/5\nprint(b)\nmediadasmedias = b.sum()/10\nb = b - mediadasmedias\nb=b**2\nb.sum()**1/2",
      "execution_count": 44,
      "outputs": [
        {
          "output_type": "stream",
          "text": "[[6.49 7.77 0.25 9.99 4.03]\n [7.83 5.6  4.22 6.52 7.34]\n [4.12 4.51 4.37 7.72 6.24]\n [0.14 7.76 7.21 4.89 4.1 ]\n [7.16 2.91 6.18 5.67 4.05]\n [7.39 1.47 3.92 8.82 0.95]\n [1.12 4.24 0.93 5.04 2.51]\n [1.38 8.05 3.   3.77 3.56]\n [1.29 2.09 3.95 0.69 4.3 ]\n [5.01 5.15 7.25 3.98 8.72]]\n[5.706 6.302 5.392 4.82  5.194 4.51  2.768 3.952 2.464 6.022]\n",
          "name": "stdout"
        },
        {
          "output_type": "execute_result",
          "execution_count": 44,
          "data": {
            "text/plain": "7.694829000000003"
          },
          "metadata": {}
        }
      ]
    }
  ],
  "metadata": {
    "kernelspec": {
      "name": "python36",
      "display_name": "Python 3.6",
      "language": "python"
    },
    "language_info": {
      "mimetype": "text/x-python",
      "nbconvert_exporter": "python",
      "name": "python",
      "pygments_lexer": "ipython3",
      "version": "3.6.3",
      "file_extension": ".py",
      "codemirror_mode": {
        "version": 3,
        "name": "ipython"
      }
    }
  },
  "nbformat": 4,
  "nbformat_minor": 2
}