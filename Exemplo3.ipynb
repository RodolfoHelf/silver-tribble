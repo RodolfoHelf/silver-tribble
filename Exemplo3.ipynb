{
  "cells": [
    {
      "metadata": {},
      "cell_type": "markdown",
      "source": "Manipulando Arquivos de Dados\n============\nNeste exemplo você irá aprender a carregar arquivos contendo informações (exportadas de algum banco de dados, sistema ou repositório) e a analisar analisar as informações contidas neles.\n\n**Antes de iniciar a atividade:**\n\n- **Baixe o arquivo de dados entitulado 'extratoppgc.csv', disponibilizado no Moodle (o arquivo contém dados reais, mas incompletos, os quais podem ser obtidos de maneira pública);**\n- **Suba esse arquivo na plataforma Jupyter. Para tanto, vá ao menu 'Data > Upload' e escolha o arquivo 'extratoppgc.csv' que você baixou no passo anterior (se o ambiente perguntar onde colocar o arquivo, escolha a pasta 'library');** \n- **Depois de ter encaminhado o arquivo, use o código seguinte para abrí-lo.** \n\nLembre-se de que para executar o código é necessário selecionar a célula que o contém e utilizar o botão \"play\" no menu superior. Você também pode mandar executar todas as células de uma única vez escolhendo a opção \"Run all\" no menu \"Cell\"."
    },
    {
      "metadata": {
        "trusted": true
      },
      "cell_type": "code",
      "source": "# pandas é uma biblioteca para manipulação de tabelas de dados\nimport pandas as pd\n\n# Nome do arquivo de dados\narquivo = 'exemplo.csv'\n\nprint(\"Lendo arquivo: \", arquivo)\n\n# lê o arquivo e coloca o resultado em um dataframe chamado 'df'\n#df = pd.read_csv(arquivo, encoding='cp860',sep=\";\") \ndf = pd.read_csv(arquivo, sep=\";\") \n\nprint(\"Arquivo lido.\")",
      "execution_count": 1,
      "outputs": [
        {
          "output_type": "stream",
          "text": "Lendo arquivo:  exemplo.csv\nArquivo lido.\n",
          "name": "stdout"
        }
      ]
    },
    {
      "metadata": {},
      "cell_type": "markdown",
      "source": "**Para saber quais são as colunas que esse arquivo possui, use o seguinte comando:**"
    },
    {
      "metadata": {
        "trusted": true
      },
      "cell_type": "code",
      "source": "print(df.columns)",
      "execution_count": 39,
      "outputs": [
        {
          "output_type": "stream",
          "text": "Index(['Alunos', 'P1', 'P2', 'P3'], dtype='object')\n",
          "name": "stdout"
        }
      ]
    },
    {
      "metadata": {},
      "cell_type": "markdown",
      "source": "**Para ver o conteúdo do dataframe, use o seguinte comando:**"
    },
    {
      "metadata": {
        "trusted": true
      },
      "cell_type": "code",
      "source": "print(df)",
      "execution_count": 40,
      "outputs": [
        {
          "output_type": "stream",
          "text": "    Alunos  P1  P2  P3\n0    Jorge   8   8   9\n1    Jorge   8   2   5\n2    Jorge   7   1   1\n3   Carlos   6   7   0\n4    Kevin   2   9   2\n5  Antonio   3   8   8\n6   Marcia   1   4  10\n",
          "name": "stdout"
        }
      ]
    },
    {
      "metadata": {
        "trusted": true
      },
      "cell_type": "code",
      "source": "# para ver o resultado em forma de tabela, simplesmente solicite o dataframe:\ndf",
      "execution_count": 41,
      "outputs": [
        {
          "output_type": "execute_result",
          "execution_count": 41,
          "data": {
            "text/html": "<div>\n<table border=\"1\" class=\"dataframe\">\n  <thead>\n    <tr style=\"text-align: right;\">\n      <th></th>\n      <th>Alunos</th>\n      <th>P1</th>\n      <th>P2</th>\n      <th>P3</th>\n    </tr>\n  </thead>\n  <tbody>\n    <tr>\n      <th>0</th>\n      <td>Jorge</td>\n      <td>8</td>\n      <td>8</td>\n      <td>9</td>\n    </tr>\n    <tr>\n      <th>1</th>\n      <td>Jorge</td>\n      <td>8</td>\n      <td>2</td>\n      <td>5</td>\n    </tr>\n    <tr>\n      <th>2</th>\n      <td>Jorge</td>\n      <td>7</td>\n      <td>1</td>\n      <td>1</td>\n    </tr>\n    <tr>\n      <th>3</th>\n      <td>Carlos</td>\n      <td>6</td>\n      <td>7</td>\n      <td>0</td>\n    </tr>\n    <tr>\n      <th>4</th>\n      <td>Kevin</td>\n      <td>2</td>\n      <td>9</td>\n      <td>2</td>\n    </tr>\n    <tr>\n      <th>5</th>\n      <td>Antonio</td>\n      <td>3</td>\n      <td>8</td>\n      <td>8</td>\n    </tr>\n    <tr>\n      <th>6</th>\n      <td>Marcia</td>\n      <td>1</td>\n      <td>4</td>\n      <td>10</td>\n    </tr>\n  </tbody>\n</table>\n</div>",
            "text/plain": "    Alunos  P1  P2  P3\n0    Jorge   8   8   9\n1    Jorge   8   2   5\n2    Jorge   7   1   1\n3   Carlos   6   7   0\n4    Kevin   2   9   2\n5  Antonio   3   8   8\n6   Marcia   1   4  10"
          },
          "metadata": {}
        }
      ]
    },
    {
      "metadata": {},
      "cell_type": "markdown",
      "source": "**Vamos agora utilizar a bibliteca 'pandas' para: **\n- **verificar quantos artigos (no total) são produzidos por ano, no programa PPGC;**\n- **montar uma tabela que demonstre quantos artigos por tipo (periódico ou conferência) são publicados por ano.** \n- **mostrar um gráfico em barras que compare a produção de cada tipo, por ano);**\n- **montar uma tabela que demonstre a quantidade total de artigos por QUALIS;**\n- **extratificar a tabela anterior, demonstrando a quantidade de artigos em cada tipo de qualis, por ano, além de gráficos em linha que demonstrem a evolução da produção no período;**\n- **montar uma tabela e um gráfico que demonstre informações estatísticas (mediana, moda, desvio padrão, etc.).** \n"
    },
    {
      "metadata": {
        "trusted": true
      },
      "cell_type": "code",
      "source": "# habilita a geração de gráficos no Jupyter\n%matplotlib inline\n\n# Seleciona somente os registros que são efetivamente do PPGC e coloca em um novo \n# dataframe chamado 'prodPPGC':\nprodPPGC = df[df['Alunos']== 'Jorge']\nprodPPGC",
      "execution_count": 42,
      "outputs": [
        {
          "output_type": "execute_result",
          "execution_count": 42,
          "data": {
            "text/html": "<div>\n<table border=\"1\" class=\"dataframe\">\n  <thead>\n    <tr style=\"text-align: right;\">\n      <th></th>\n      <th>Alunos</th>\n      <th>P1</th>\n      <th>P2</th>\n      <th>P3</th>\n    </tr>\n  </thead>\n  <tbody>\n    <tr>\n      <th>0</th>\n      <td>Jorge</td>\n      <td>8</td>\n      <td>8</td>\n      <td>9</td>\n    </tr>\n    <tr>\n      <th>1</th>\n      <td>Jorge</td>\n      <td>8</td>\n      <td>2</td>\n      <td>5</td>\n    </tr>\n    <tr>\n      <th>2</th>\n      <td>Jorge</td>\n      <td>7</td>\n      <td>1</td>\n      <td>1</td>\n    </tr>\n  </tbody>\n</table>\n</div>",
            "text/plain": "  Alunos  P1  P2  P3\n0  Jorge   8   8   9\n1  Jorge   8   2   5\n2  Jorge   7   1   1"
          },
          "metadata": {}
        }
      ]
    },
    {
      "metadata": {
        "trusted": true
      },
      "cell_type": "code",
      "source": "# Mostra 2 primeiros registros do dataframe (só para mostrar que dá para filtrar)\nprodPPGC.head(2)",
      "execution_count": 43,
      "outputs": [
        {
          "output_type": "execute_result",
          "execution_count": 43,
          "data": {
            "text/html": "<div>\n<table border=\"1\" class=\"dataframe\">\n  <thead>\n    <tr style=\"text-align: right;\">\n      <th></th>\n      <th>Alunos</th>\n      <th>P1</th>\n      <th>P2</th>\n      <th>P3</th>\n    </tr>\n  </thead>\n  <tbody>\n    <tr>\n      <th>0</th>\n      <td>Jorge</td>\n      <td>8</td>\n      <td>8</td>\n      <td>9</td>\n    </tr>\n    <tr>\n      <th>1</th>\n      <td>Jorge</td>\n      <td>8</td>\n      <td>2</td>\n      <td>5</td>\n    </tr>\n  </tbody>\n</table>\n</div>",
            "text/plain": "  Alunos  P1  P2  P3\n0  Jorge   8   8   9\n1  Jorge   8   2   5"
          },
          "metadata": {}
        }
      ]
    },
    {
      "metadata": {
        "trusted": true
      },
      "cell_type": "code",
      "source": "# Remove a coluna PPGC do dataframe, pois ela não é mais necessária (afinal, agora ele só tem dados do PPGC)\nprodPPGC = prodPPGC.drop(['Alunos'], axis=1)\nprodPPGC",
      "execution_count": 44,
      "outputs": [
        {
          "output_type": "execute_result",
          "execution_count": 44,
          "data": {
            "text/html": "<div>\n<table border=\"1\" class=\"dataframe\">\n  <thead>\n    <tr style=\"text-align: right;\">\n      <th></th>\n      <th>P1</th>\n      <th>P2</th>\n      <th>P3</th>\n    </tr>\n  </thead>\n  <tbody>\n    <tr>\n      <th>0</th>\n      <td>8</td>\n      <td>8</td>\n      <td>9</td>\n    </tr>\n    <tr>\n      <th>1</th>\n      <td>8</td>\n      <td>2</td>\n      <td>5</td>\n    </tr>\n    <tr>\n      <th>2</th>\n      <td>7</td>\n      <td>1</td>\n      <td>1</td>\n    </tr>\n  </tbody>\n</table>\n</div>",
            "text/plain": "   P1  P2  P3\n0   8   8   9\n1   8   2   5\n2   7   1   1"
          },
          "metadata": {}
        }
      ]
    },
    {
      "metadata": {
        "trusted": true
      },
      "cell_type": "code",
      "source": "# Agrupa os registros por tipo de produção e coloca em 'prodPPGCByTipos':\nprodPPGCByTipos = prodPPGC.groupby('P1')",
      "execution_count": 45,
      "outputs": []
    },
    {
      "metadata": {
        "trusted": true
      },
      "cell_type": "code",
      "source": "# Mostra os 2 primeiros registros do dataset resultante \n# (como há 2 grupos de dados, um para cada tipo de produção, i.e., periódicos e conferências), \n# acaba mostrando 4, ou seja, 2 para cada grupo):\nprodPPGCByTipos#.head(2)",
      "execution_count": 80,
      "outputs": [
        {
          "output_type": "execute_result",
          "execution_count": 80,
          "data": {
            "text/plain": "<pandas.core.groupby.DataFrameGroupBy object at 0x7f388df66cc0>"
          },
          "metadata": {}
        }
      ]
    },
    {
      "metadata": {
        "trusted": true
      },
      "cell_type": "code",
      "source": "# verifica o tamanho (quantidade de itens) de cada grupo e mostra gráfico em barras\nprodPPGCByTipos.size().plot.bar(color=['red', 'blue'])",
      "execution_count": 47,
      "outputs": [
        {
          "output_type": "execute_result",
          "execution_count": 47,
          "data": {
            "text/plain": "<matplotlib.axes._subplots.AxesSubplot at 0x7f388df02400>"
          },
          "metadata": {}
        },
        {
          "output_type": "display_data",
          "data": {
            "image/png": "[encoded data removed]",
            "text/plain": "<matplotlib.figure.Figure at 0x7f388df737f0>"
          },
          "metadata": {}
        }
      ]
    },
    {
      "metadata": {
        "trusted": true
      },
      "cell_type": "code",
      "source": "# verifica o tamanho (quantidade de itens) de cada grupo e mostra gráfico em pizza\nprodPPGCByTipos.size().plot.pie(colors=['red', 'blue'])",
      "execution_count": 48,
      "outputs": [
        {
          "output_type": "execute_result",
          "execution_count": 48,
          "data": {
            "text/plain": "<matplotlib.axes._subplots.AxesSubplot at 0x7f388decb5f8>"
          },
          "metadata": {}
        },
        {
          "output_type": "display_data",
          "data": {
            "image/png": "[encoded data removed]",
            "text/plain": "<matplotlib.figure.Figure at 0x7f388ded30b8>"
          },
          "metadata": {}
        }
      ]
    },
    {
      "metadata": {
        "trusted": true
      },
      "cell_type": "code",
      "source": "# personalizando o gráfico\nimport matplotlib.pyplot as plot\nplot.pie(prodPPGCByTipos.size(), colors=['red', 'blue'], labels=prodPPGCByTipos.groups.keys(), shadow=True,autopct='%1.1f%%')\nplot.title('PUBLICAÃÃES POR TIPO')",
      "execution_count": 49,
      "outputs": [
        {
          "output_type": "execute_result",
          "execution_count": 49,
          "data": {
            "text/plain": "Text(0.5,1,'PUBLICAÃ\\x87Ã\\x95ES POR TIPO')"
          },
          "metadata": {}
        },
        {
          "output_type": "display_data",
          "data": {
            "image/png": "[encoded data removed]",
            "text/plain": "<matplotlib.figure.Figure at 0x7f388ded3c88>"
          },
          "metadata": {}
        }
      ]
    },
    {
      "metadata": {
        "trusted": true
      },
      "cell_type": "code",
      "source": "# Agrupa por ano:\nprodPPGCByAno = prodPPGC.groupby('Ano')\n\n# conta quantos registros cada grupo (ano) possui\nresultado = prodPPGCByAno.count()\n\n# troca o nome da coluna \nresultado.rename(columns={'Qualis': 'Quantidade'}, inplace=True)\n\n# mostra quantidade por ano, em forma de tabela\nresultado[['Quantidade']]",
      "execution_count": 50,
      "outputs": [
        {
          "output_type": "error",
          "ename": "KeyError",
          "evalue": "'Ano'",
          "traceback": [
            "\u001b[0;31m---------------------------------------------------------------------------\u001b[0m",
            "\u001b[0;31mKeyError\u001b[0m                                  Traceback (most recent call last)",
            "\u001b[0;32m~/anaconda3_420/lib/python3.5/site-packages/pandas/indexes/base.py\u001b[0m in \u001b[0;36mget_loc\u001b[0;34m(self, key, method, tolerance)\u001b[0m\n\u001b[1;32m   2133\u001b[0m             \u001b[0;32mtry\u001b[0m\u001b[0;34m:\u001b[0m\u001b[0;34m\u001b[0m\u001b[0m\n\u001b[0;32m-> 2134\u001b[0;31m                 \u001b[0;32mreturn\u001b[0m \u001b[0mself\u001b[0m\u001b[0;34m.\u001b[0m\u001b[0m_engine\u001b[0m\u001b[0;34m.\u001b[0m\u001b[0mget_loc\u001b[0m\u001b[0;34m(\u001b[0m\u001b[0mkey\u001b[0m\u001b[0;34m)\u001b[0m\u001b[0;34m\u001b[0m\u001b[0m\n\u001b[0m\u001b[1;32m   2135\u001b[0m             \u001b[0;32mexcept\u001b[0m \u001b[0mKeyError\u001b[0m\u001b[0;34m:\u001b[0m\u001b[0;34m\u001b[0m\u001b[0m\n",
            "\u001b[0;32mpandas/index.pyx\u001b[0m in \u001b[0;36mpandas.index.IndexEngine.get_loc (pandas/index.c:4433)\u001b[0;34m()\u001b[0m\n",
            "\u001b[0;32mpandas/index.pyx\u001b[0m in \u001b[0;36mpandas.index.IndexEngine.get_loc (pandas/index.c:4279)\u001b[0;34m()\u001b[0m\n",
            "\u001b[0;32mpandas/src/hashtable_class_helper.pxi\u001b[0m in \u001b[0;36mpandas.hashtable.PyObjectHashTable.get_item (pandas/hashtable.c:13742)\u001b[0;34m()\u001b[0m\n",
            "\u001b[0;32mpandas/src/hashtable_class_helper.pxi\u001b[0m in \u001b[0;36mpandas.hashtable.PyObjectHashTable.get_item (pandas/hashtable.c:13696)\u001b[0;34m()\u001b[0m\n",
            "\u001b[0;31mKeyError\u001b[0m: 'Ano'",
            "\nDuring handling of the above exception, another exception occurred:\n",
            "\u001b[0;31mKeyError\u001b[0m                                  Traceback (most recent call last)",
            "\u001b[0;32m<ipython-input-50-d287c63137bf>\u001b[0m in \u001b[0;36m<module>\u001b[0;34m()\u001b[0m\n\u001b[1;32m      1\u001b[0m \u001b[0;31m# Agrupa por ano:\u001b[0m\u001b[0;34m\u001b[0m\u001b[0;34m\u001b[0m\u001b[0m\n\u001b[0;32m----> 2\u001b[0;31m \u001b[0mprodPPGCByAno\u001b[0m \u001b[0;34m=\u001b[0m \u001b[0mprodPPGC\u001b[0m\u001b[0;34m.\u001b[0m\u001b[0mgroupby\u001b[0m\u001b[0;34m(\u001b[0m\u001b[0;34m'Ano'\u001b[0m\u001b[0;34m)\u001b[0m\u001b[0;34m\u001b[0m\u001b[0m\n\u001b[0m\u001b[1;32m      3\u001b[0m \u001b[0;34m\u001b[0m\u001b[0m\n\u001b[1;32m      4\u001b[0m \u001b[0;31m# conta quantos registros cada grupo (ano) possui\u001b[0m\u001b[0;34m\u001b[0m\u001b[0;34m\u001b[0m\u001b[0m\n\u001b[1;32m      5\u001b[0m \u001b[0mresultado\u001b[0m \u001b[0;34m=\u001b[0m \u001b[0mprodPPGCByAno\u001b[0m\u001b[0;34m.\u001b[0m\u001b[0mcount\u001b[0m\u001b[0;34m(\u001b[0m\u001b[0;34m)\u001b[0m\u001b[0;34m\u001b[0m\u001b[0m\n",
            "\u001b[0;32m~/anaconda3_420/lib/python3.5/site-packages/pandas/core/generic.py\u001b[0m in \u001b[0;36mgroupby\u001b[0;34m(self, by, axis, level, as_index, sort, group_keys, squeeze, **kwargs)\u001b[0m\n\u001b[1;32m   3989\u001b[0m         return groupby(self, by=by, axis=axis, level=level, as_index=as_index,\n\u001b[1;32m   3990\u001b[0m                        \u001b[0msort\u001b[0m\u001b[0;34m=\u001b[0m\u001b[0msort\u001b[0m\u001b[0;34m,\u001b[0m \u001b[0mgroup_keys\u001b[0m\u001b[0;34m=\u001b[0m\u001b[0mgroup_keys\u001b[0m\u001b[0;34m,\u001b[0m \u001b[0msqueeze\u001b[0m\u001b[0;34m=\u001b[0m\u001b[0msqueeze\u001b[0m\u001b[0;34m,\u001b[0m\u001b[0;34m\u001b[0m\u001b[0m\n\u001b[0;32m-> 3991\u001b[0;31m                        **kwargs)\n\u001b[0m\u001b[1;32m   3992\u001b[0m \u001b[0;34m\u001b[0m\u001b[0m\n\u001b[1;32m   3993\u001b[0m     \u001b[0;32mdef\u001b[0m \u001b[0masfreq\u001b[0m\u001b[0;34m(\u001b[0m\u001b[0mself\u001b[0m\u001b[0;34m,\u001b[0m \u001b[0mfreq\u001b[0m\u001b[0;34m,\u001b[0m \u001b[0mmethod\u001b[0m\u001b[0;34m=\u001b[0m\u001b[0;32mNone\u001b[0m\u001b[0;34m,\u001b[0m \u001b[0mhow\u001b[0m\u001b[0;34m=\u001b[0m\u001b[0;32mNone\u001b[0m\u001b[0;34m,\u001b[0m \u001b[0mnormalize\u001b[0m\u001b[0;34m=\u001b[0m\u001b[0;32mFalse\u001b[0m\u001b[0;34m)\u001b[0m\u001b[0;34m:\u001b[0m\u001b[0;34m\u001b[0m\u001b[0m\n",
            "\u001b[0;32m~/anaconda3_420/lib/python3.5/site-packages/pandas/core/groupby.py\u001b[0m in \u001b[0;36mgroupby\u001b[0;34m(obj, by, **kwds)\u001b[0m\n\u001b[1;32m   1509\u001b[0m         \u001b[0;32mraise\u001b[0m \u001b[0mTypeError\u001b[0m\u001b[0;34m(\u001b[0m\u001b[0;34m'invalid type: %s'\u001b[0m \u001b[0;34m%\u001b[0m \u001b[0mtype\u001b[0m\u001b[0;34m(\u001b[0m\u001b[0mobj\u001b[0m\u001b[0;34m)\u001b[0m\u001b[0;34m)\u001b[0m\u001b[0;34m\u001b[0m\u001b[0m\n\u001b[1;32m   1510\u001b[0m \u001b[0;34m\u001b[0m\u001b[0m\n\u001b[0;32m-> 1511\u001b[0;31m     \u001b[0;32mreturn\u001b[0m \u001b[0mklass\u001b[0m\u001b[0;34m(\u001b[0m\u001b[0mobj\u001b[0m\u001b[0;34m,\u001b[0m \u001b[0mby\u001b[0m\u001b[0;34m,\u001b[0m \u001b[0;34m**\u001b[0m\u001b[0mkwds\u001b[0m\u001b[0;34m)\u001b[0m\u001b[0;34m\u001b[0m\u001b[0m\n\u001b[0m\u001b[1;32m   1512\u001b[0m \u001b[0;34m\u001b[0m\u001b[0m\n\u001b[1;32m   1513\u001b[0m \u001b[0;34m\u001b[0m\u001b[0m\n",
            "\u001b[0;32m~/anaconda3_420/lib/python3.5/site-packages/pandas/core/groupby.py\u001b[0m in \u001b[0;36m__init__\u001b[0;34m(self, obj, keys, axis, level, grouper, exclusions, selection, as_index, sort, group_keys, squeeze, **kwargs)\u001b[0m\n\u001b[1;32m    368\u001b[0m                                                     \u001b[0mlevel\u001b[0m\u001b[0;34m=\u001b[0m\u001b[0mlevel\u001b[0m\u001b[0;34m,\u001b[0m\u001b[0;34m\u001b[0m\u001b[0m\n\u001b[1;32m    369\u001b[0m                                                     \u001b[0msort\u001b[0m\u001b[0;34m=\u001b[0m\u001b[0msort\u001b[0m\u001b[0;34m,\u001b[0m\u001b[0;34m\u001b[0m\u001b[0m\n\u001b[0;32m--> 370\u001b[0;31m                                                     mutated=self.mutated)\n\u001b[0m\u001b[1;32m    371\u001b[0m \u001b[0;34m\u001b[0m\u001b[0m\n\u001b[1;32m    372\u001b[0m         \u001b[0mself\u001b[0m\u001b[0;34m.\u001b[0m\u001b[0mobj\u001b[0m \u001b[0;34m=\u001b[0m \u001b[0mobj\u001b[0m\u001b[0;34m\u001b[0m\u001b[0m\n",
            "\u001b[0;32m~/anaconda3_420/lib/python3.5/site-packages/pandas/core/groupby.py\u001b[0m in \u001b[0;36m_get_grouper\u001b[0;34m(obj, key, axis, level, sort, mutated)\u001b[0m\n\u001b[1;32m   2460\u001b[0m \u001b[0;34m\u001b[0m\u001b[0m\n\u001b[1;32m   2461\u001b[0m         \u001b[0;32melif\u001b[0m \u001b[0mis_in_axis\u001b[0m\u001b[0;34m(\u001b[0m\u001b[0mgpr\u001b[0m\u001b[0;34m)\u001b[0m\u001b[0;34m:\u001b[0m  \u001b[0;31m# df.groupby('name')\u001b[0m\u001b[0;34m\u001b[0m\u001b[0m\n\u001b[0;32m-> 2462\u001b[0;31m             \u001b[0min_axis\u001b[0m\u001b[0;34m,\u001b[0m \u001b[0mname\u001b[0m\u001b[0;34m,\u001b[0m \u001b[0mgpr\u001b[0m \u001b[0;34m=\u001b[0m \u001b[0;32mTrue\u001b[0m\u001b[0;34m,\u001b[0m \u001b[0mgpr\u001b[0m\u001b[0;34m,\u001b[0m \u001b[0mobj\u001b[0m\u001b[0;34m[\u001b[0m\u001b[0mgpr\u001b[0m\u001b[0;34m]\u001b[0m\u001b[0;34m\u001b[0m\u001b[0m\n\u001b[0m\u001b[1;32m   2463\u001b[0m             \u001b[0mexclusions\u001b[0m\u001b[0;34m.\u001b[0m\u001b[0mappend\u001b[0m\u001b[0;34m(\u001b[0m\u001b[0mname\u001b[0m\u001b[0;34m)\u001b[0m\u001b[0;34m\u001b[0m\u001b[0m\n\u001b[1;32m   2464\u001b[0m         \u001b[0;32melif\u001b[0m \u001b[0misinstance\u001b[0m\u001b[0;34m(\u001b[0m\u001b[0mgpr\u001b[0m\u001b[0;34m,\u001b[0m \u001b[0mGrouper\u001b[0m\u001b[0;34m)\u001b[0m \u001b[0;32mand\u001b[0m \u001b[0mgpr\u001b[0m\u001b[0;34m.\u001b[0m\u001b[0mkey\u001b[0m \u001b[0;32mis\u001b[0m \u001b[0;32mnot\u001b[0m \u001b[0;32mNone\u001b[0m\u001b[0;34m:\u001b[0m\u001b[0;34m\u001b[0m\u001b[0m\n",
            "\u001b[0;32m~/anaconda3_420/lib/python3.5/site-packages/pandas/core/frame.py\u001b[0m in \u001b[0;36m__getitem__\u001b[0;34m(self, key)\u001b[0m\n\u001b[1;32m   2057\u001b[0m             \u001b[0;32mreturn\u001b[0m \u001b[0mself\u001b[0m\u001b[0;34m.\u001b[0m\u001b[0m_getitem_multilevel\u001b[0m\u001b[0;34m(\u001b[0m\u001b[0mkey\u001b[0m\u001b[0;34m)\u001b[0m\u001b[0;34m\u001b[0m\u001b[0m\n\u001b[1;32m   2058\u001b[0m         \u001b[0;32melse\u001b[0m\u001b[0;34m:\u001b[0m\u001b[0;34m\u001b[0m\u001b[0m\n\u001b[0;32m-> 2059\u001b[0;31m             \u001b[0;32mreturn\u001b[0m \u001b[0mself\u001b[0m\u001b[0;34m.\u001b[0m\u001b[0m_getitem_column\u001b[0m\u001b[0;34m(\u001b[0m\u001b[0mkey\u001b[0m\u001b[0;34m)\u001b[0m\u001b[0;34m\u001b[0m\u001b[0m\n\u001b[0m\u001b[1;32m   2060\u001b[0m \u001b[0;34m\u001b[0m\u001b[0m\n\u001b[1;32m   2061\u001b[0m     \u001b[0;32mdef\u001b[0m \u001b[0m_getitem_column\u001b[0m\u001b[0;34m(\u001b[0m\u001b[0mself\u001b[0m\u001b[0;34m,\u001b[0m \u001b[0mkey\u001b[0m\u001b[0;34m)\u001b[0m\u001b[0;34m:\u001b[0m\u001b[0;34m\u001b[0m\u001b[0m\n",
            "\u001b[0;32m~/anaconda3_420/lib/python3.5/site-packages/pandas/core/frame.py\u001b[0m in \u001b[0;36m_getitem_column\u001b[0;34m(self, key)\u001b[0m\n\u001b[1;32m   2064\u001b[0m         \u001b[0;31m# get column\u001b[0m\u001b[0;34m\u001b[0m\u001b[0;34m\u001b[0m\u001b[0m\n\u001b[1;32m   2065\u001b[0m         \u001b[0;32mif\u001b[0m \u001b[0mself\u001b[0m\u001b[0;34m.\u001b[0m\u001b[0mcolumns\u001b[0m\u001b[0;34m.\u001b[0m\u001b[0mis_unique\u001b[0m\u001b[0;34m:\u001b[0m\u001b[0;34m\u001b[0m\u001b[0m\n\u001b[0;32m-> 2066\u001b[0;31m             \u001b[0;32mreturn\u001b[0m \u001b[0mself\u001b[0m\u001b[0;34m.\u001b[0m\u001b[0m_get_item_cache\u001b[0m\u001b[0;34m(\u001b[0m\u001b[0mkey\u001b[0m\u001b[0;34m)\u001b[0m\u001b[0;34m\u001b[0m\u001b[0m\n\u001b[0m\u001b[1;32m   2067\u001b[0m \u001b[0;34m\u001b[0m\u001b[0m\n\u001b[1;32m   2068\u001b[0m         \u001b[0;31m# duplicate columns & possible reduce dimensionality\u001b[0m\u001b[0;34m\u001b[0m\u001b[0;34m\u001b[0m\u001b[0m\n",
            "\u001b[0;32m~/anaconda3_420/lib/python3.5/site-packages/pandas/core/generic.py\u001b[0m in \u001b[0;36m_get_item_cache\u001b[0;34m(self, item)\u001b[0m\n\u001b[1;32m   1384\u001b[0m         \u001b[0mres\u001b[0m \u001b[0;34m=\u001b[0m \u001b[0mcache\u001b[0m\u001b[0;34m.\u001b[0m\u001b[0mget\u001b[0m\u001b[0;34m(\u001b[0m\u001b[0mitem\u001b[0m\u001b[0;34m)\u001b[0m\u001b[0;34m\u001b[0m\u001b[0m\n\u001b[1;32m   1385\u001b[0m         \u001b[0;32mif\u001b[0m \u001b[0mres\u001b[0m \u001b[0;32mis\u001b[0m \u001b[0;32mNone\u001b[0m\u001b[0;34m:\u001b[0m\u001b[0;34m\u001b[0m\u001b[0m\n\u001b[0;32m-> 1386\u001b[0;31m             \u001b[0mvalues\u001b[0m \u001b[0;34m=\u001b[0m \u001b[0mself\u001b[0m\u001b[0;34m.\u001b[0m\u001b[0m_data\u001b[0m\u001b[0;34m.\u001b[0m\u001b[0mget\u001b[0m\u001b[0;34m(\u001b[0m\u001b[0mitem\u001b[0m\u001b[0;34m)\u001b[0m\u001b[0;34m\u001b[0m\u001b[0m\n\u001b[0m\u001b[1;32m   1387\u001b[0m             \u001b[0mres\u001b[0m \u001b[0;34m=\u001b[0m \u001b[0mself\u001b[0m\u001b[0;34m.\u001b[0m\u001b[0m_box_item_values\u001b[0m\u001b[0;34m(\u001b[0m\u001b[0mitem\u001b[0m\u001b[0;34m,\u001b[0m \u001b[0mvalues\u001b[0m\u001b[0;34m)\u001b[0m\u001b[0;34m\u001b[0m\u001b[0m\n\u001b[1;32m   1388\u001b[0m             \u001b[0mcache\u001b[0m\u001b[0;34m[\u001b[0m\u001b[0mitem\u001b[0m\u001b[0;34m]\u001b[0m \u001b[0;34m=\u001b[0m \u001b[0mres\u001b[0m\u001b[0;34m\u001b[0m\u001b[0m\n",
            "\u001b[0;32m~/anaconda3_420/lib/python3.5/site-packages/pandas/core/internals.py\u001b[0m in \u001b[0;36mget\u001b[0;34m(self, item, fastpath)\u001b[0m\n\u001b[1;32m   3541\u001b[0m \u001b[0;34m\u001b[0m\u001b[0m\n\u001b[1;32m   3542\u001b[0m             \u001b[0;32mif\u001b[0m \u001b[0;32mnot\u001b[0m \u001b[0misnull\u001b[0m\u001b[0;34m(\u001b[0m\u001b[0mitem\u001b[0m\u001b[0;34m)\u001b[0m\u001b[0;34m:\u001b[0m\u001b[0;34m\u001b[0m\u001b[0m\n\u001b[0;32m-> 3543\u001b[0;31m                 \u001b[0mloc\u001b[0m \u001b[0;34m=\u001b[0m \u001b[0mself\u001b[0m\u001b[0;34m.\u001b[0m\u001b[0mitems\u001b[0m\u001b[0;34m.\u001b[0m\u001b[0mget_loc\u001b[0m\u001b[0;34m(\u001b[0m\u001b[0mitem\u001b[0m\u001b[0;34m)\u001b[0m\u001b[0;34m\u001b[0m\u001b[0m\n\u001b[0m\u001b[1;32m   3544\u001b[0m             \u001b[0;32melse\u001b[0m\u001b[0;34m:\u001b[0m\u001b[0;34m\u001b[0m\u001b[0m\n\u001b[1;32m   3545\u001b[0m                 \u001b[0mindexer\u001b[0m \u001b[0;34m=\u001b[0m \u001b[0mnp\u001b[0m\u001b[0;34m.\u001b[0m\u001b[0marange\u001b[0m\u001b[0;34m(\u001b[0m\u001b[0mlen\u001b[0m\u001b[0;34m(\u001b[0m\u001b[0mself\u001b[0m\u001b[0;34m.\u001b[0m\u001b[0mitems\u001b[0m\u001b[0;34m)\u001b[0m\u001b[0;34m)\u001b[0m\u001b[0;34m[\u001b[0m\u001b[0misnull\u001b[0m\u001b[0;34m(\u001b[0m\u001b[0mself\u001b[0m\u001b[0;34m.\u001b[0m\u001b[0mitems\u001b[0m\u001b[0;34m)\u001b[0m\u001b[0;34m]\u001b[0m\u001b[0;34m\u001b[0m\u001b[0m\n",
            "\u001b[0;32m~/anaconda3_420/lib/python3.5/site-packages/pandas/indexes/base.py\u001b[0m in \u001b[0;36mget_loc\u001b[0;34m(self, key, method, tolerance)\u001b[0m\n\u001b[1;32m   2134\u001b[0m                 \u001b[0;32mreturn\u001b[0m \u001b[0mself\u001b[0m\u001b[0;34m.\u001b[0m\u001b[0m_engine\u001b[0m\u001b[0;34m.\u001b[0m\u001b[0mget_loc\u001b[0m\u001b[0;34m(\u001b[0m\u001b[0mkey\u001b[0m\u001b[0;34m)\u001b[0m\u001b[0;34m\u001b[0m\u001b[0m\n\u001b[1;32m   2135\u001b[0m             \u001b[0;32mexcept\u001b[0m \u001b[0mKeyError\u001b[0m\u001b[0;34m:\u001b[0m\u001b[0;34m\u001b[0m\u001b[0m\n\u001b[0;32m-> 2136\u001b[0;31m                 \u001b[0;32mreturn\u001b[0m \u001b[0mself\u001b[0m\u001b[0;34m.\u001b[0m\u001b[0m_engine\u001b[0m\u001b[0;34m.\u001b[0m\u001b[0mget_loc\u001b[0m\u001b[0;34m(\u001b[0m\u001b[0mself\u001b[0m\u001b[0;34m.\u001b[0m\u001b[0m_maybe_cast_indexer\u001b[0m\u001b[0;34m(\u001b[0m\u001b[0mkey\u001b[0m\u001b[0;34m)\u001b[0m\u001b[0;34m)\u001b[0m\u001b[0;34m\u001b[0m\u001b[0m\n\u001b[0m\u001b[1;32m   2137\u001b[0m \u001b[0;34m\u001b[0m\u001b[0m\n\u001b[1;32m   2138\u001b[0m         \u001b[0mindexer\u001b[0m \u001b[0;34m=\u001b[0m \u001b[0mself\u001b[0m\u001b[0;34m.\u001b[0m\u001b[0mget_indexer\u001b[0m\u001b[0;34m(\u001b[0m\u001b[0;34m[\u001b[0m\u001b[0mkey\u001b[0m\u001b[0;34m]\u001b[0m\u001b[0;34m,\u001b[0m \u001b[0mmethod\u001b[0m\u001b[0;34m=\u001b[0m\u001b[0mmethod\u001b[0m\u001b[0;34m,\u001b[0m \u001b[0mtolerance\u001b[0m\u001b[0;34m=\u001b[0m\u001b[0mtolerance\u001b[0m\u001b[0;34m)\u001b[0m\u001b[0;34m\u001b[0m\u001b[0m\n",
            "\u001b[0;32mpandas/index.pyx\u001b[0m in \u001b[0;36mpandas.index.IndexEngine.get_loc (pandas/index.c:4433)\u001b[0;34m()\u001b[0m\n",
            "\u001b[0;32mpandas/index.pyx\u001b[0m in \u001b[0;36mpandas.index.IndexEngine.get_loc (pandas/index.c:4279)\u001b[0;34m()\u001b[0m\n",
            "\u001b[0;32mpandas/src/hashtable_class_helper.pxi\u001b[0m in \u001b[0;36mpandas.hashtable.PyObjectHashTable.get_item (pandas/hashtable.c:13742)\u001b[0;34m()\u001b[0m\n",
            "\u001b[0;32mpandas/src/hashtable_class_helper.pxi\u001b[0m in \u001b[0;36mpandas.hashtable.PyObjectHashTable.get_item (pandas/hashtable.c:13696)\u001b[0;34m()\u001b[0m\n",
            "\u001b[0;31mKeyError\u001b[0m: 'Ano'"
          ]
        }
      ]
    },
    {
      "metadata": {
        "trusted": true
      },
      "cell_type": "code",
      "source": "# Motra quantidade total de artigos por ano em um gráfico em barras\nresultado['Quantidade'].plot.bar()\n\n# também poderia ter feito direto: prodPPGCByAno.size().plot.bar()",
      "execution_count": null,
      "outputs": []
    },
    {
      "metadata": {
        "trusted": true
      },
      "cell_type": "code",
      "source": "# Agrupa dados de produção por ano e, dentro do ano, por tipo\nprodPPGCByTipoporAno = prodPPGC.groupby(['Ano','Tipo'])\n# ou prodPPGCByTipoporAno = prodPPGC.groupby([prodPPGC['Ano'],prodPPGC['Tipo']])\n\nresultado = prodPPGCByTipoporAno.size().unstack()",
      "execution_count": null,
      "outputs": []
    },
    {
      "metadata": {
        "trusted": true
      },
      "cell_type": "code",
      "source": "# Tabela com a quantidade de artigos por tipo de qualis, por ano:\nresultado.columns.values[0] =  'Artigos em Conferências'\nresultado.columns.values[1] =  'Artigos em Periódicos'\nresultado",
      "execution_count": null,
      "outputs": []
    },
    {
      "metadata": {
        "trusted": true
      },
      "cell_type": "code",
      "source": "# Tabela alternativa, agrupada por categorias em linhas:\nresultadoalternativo = prodPPGCByTipoporAno.count()\nresultadoalternativo.columns.values[0] =  'Quantidade'\nresultadoalternativo[['Quantidade']]",
      "execution_count": null,
      "outputs": []
    },
    {
      "metadata": {
        "trusted": true
      },
      "cell_type": "code",
      "source": "# gráfico \nresultado.plot.bar(color=['red', 'blue'])\n# tente o seguinte e analise se há diferença: \n#prodPPGCByTipoporAno.size().plot.bar(color=['red', 'blue'])",
      "execution_count": null,
      "outputs": []
    },
    {
      "metadata": {
        "trusted": true
      },
      "cell_type": "code",
      "source": "# mesmo gráfico, mas com barras empilhadas\nresultado.plot.bar(color=['red', 'blue'], stacked=True).legend(title='Tipo de publicação', loc='center left', bbox_to_anchor=(1, 0.5))",
      "execution_count": null,
      "outputs": []
    },
    {
      "metadata": {
        "trusted": true
      },
      "cell_type": "code",
      "source": "# gráfico em linhas\nresultado = prodPPGCByTipoporAno.size().unstack()\nresultado.columns.values[0] =  'Artigos em ConferÃªncias'\nresultado.columns.values[1] =  'Artigos em PeriÃ³dicos'\nresultado = resultado.reset_index()\nresultado[\"Ano\"] = resultado[\"Ano\"].astype(\"category\")\nresultado.index = resultado['Ano']\nresultado.plot.line(color=['red', 'blue'], linewidth=3, grid=True, marker='x').legend(title='Tipo de publicaÃ§Ã£o', loc='center left', bbox_to_anchor=(1, 0.5))",
      "execution_count": null,
      "outputs": []
    },
    {
      "metadata": {
        "trusted": true
      },
      "cell_type": "code",
      "source": "# Quantidade total de artigos no período, por QUALIS\nprodPPGCByQualis = prodPPGC.groupby(['Qualis'])\nresultado = prodPPGCByQualis.count()[['Tipo']].rename(columns={'Tipo': 'Quantidade'})\nresultado",
      "execution_count": null,
      "outputs": []
    },
    {
      "metadata": {
        "trusted": true
      },
      "cell_type": "code",
      "source": "# resultado em um gráfico de barras\nresultado.plot.bar()",
      "execution_count": null,
      "outputs": []
    },
    {
      "metadata": {
        "trusted": true
      },
      "cell_type": "code",
      "source": "# Quantidade de artigos por qualis no período, extratificado por ano \nresultado = prodPPGC.groupby(['Ano','Qualis']).size()\nresultado.unstack()",
      "execution_count": null,
      "outputs": []
    },
    {
      "metadata": {
        "scrolled": true,
        "trusted": true
      },
      "cell_type": "code",
      "source": "# grráfico em barras empilhadas\nresultado.unstack().plot.bar(stacked=True).legend(loc='center left', bbox_to_anchor=(1, 0.5))",
      "execution_count": null,
      "outputs": []
    },
    {
      "metadata": {
        "trusted": true
      },
      "cell_type": "code",
      "source": "# mostra linhas com a evolução da quantidade por ano, por qualis\nresultado.unstack().plot.line(linewidth=3).legend(loc='center left', bbox_to_anchor=(1, 0.5)) # melhore o grÃ¡fico, ajustando as legendas...",
      "execution_count": null,
      "outputs": []
    },
    {
      "metadata": {
        "trusted": true
      },
      "cell_type": "code",
      "source": "# mostra tabela com a evolução da quantidade por ano, extratificada por tipo e por qualis\nresultado = prodPPGC.groupby(['Ano','Tipo', 'Qualis']).size().unstack()\nresultado",
      "execution_count": null,
      "outputs": []
    },
    {
      "metadata": {
        "trusted": true
      },
      "cell_type": "code",
      "source": "# Gráfico\nresultado.plot(kind='bar', stacked=True)",
      "execution_count": null,
      "outputs": []
    },
    {
      "metadata": {
        "trusted": true
      },
      "cell_type": "code",
      "source": "# Tabela de produção anual, por tipo de publicação vs qualis\nresultado = prodPPGC.groupby(['Tipo','Ano', 'Qualis']).size().unstack()\nresultado",
      "execution_count": null,
      "outputs": []
    },
    {
      "metadata": {
        "trusted": true
      },
      "cell_type": "code",
      "source": "# Mostra a quantidade de artigos no período que possuem alunos da graduação como autores:\nprodPPGC[prodPPGC['Aut.Grad']>0]['Ano'].count()",
      "execution_count": null,
      "outputs": []
    },
    {
      "metadata": {
        "trusted": true
      },
      "cell_type": "code",
      "source": "# a quantidade de artigos que possuem alunos da graduação, por ano:\nprodPPGC[prodPPGC['Aut.Grad']>0].groupby('Ano')['Tipo'].count()",
      "execution_count": null,
      "outputs": []
    },
    {
      "metadata": {
        "trusted": true
      },
      "cell_type": "code",
      "source": "# a média anual de artigos com Qualis A1, no período\nprodPPGC[prodPPGC['Qualis']=='A1'].groupby('Ano').count()['Tipo'].mean()",
      "execution_count": null,
      "outputs": []
    },
    {
      "metadata": {
        "collapsed": true
      },
      "cell_type": "markdown",
      "source": "Exemplo 2\n-----------\n\nO **trecho de código a seguir** abre um arquivo CSV disponibilizado pelo professor no seu espaço  pessoal no GitHub usando a biblioteca *`pandas`* (ver http://pandas.pydata.org/ para detalhes sobre ela).\n\nO arquivo contém um trecho dos dados do ENADE de 2014.\n\nOs **dados originais** podem ser obtidos em:\nhttp://dados.gov.br/dataset/microdados-do-exame-nacional-de-desempenho-de-estudantes-enade\n\nEm especial, para este exemplo, foram obtidos os dados de 2014:\nhttp://download.inep.gov.br/microdados/Enade_Microdados/microdados_enade_2014.zip\n\nEles foram coletados, extraídos e disponibilizados na URI especificada no código seguinte. \n\n**Execute-o e perceba que é muito simples coletar dados disponibilizados na Web!**"
    },
    {
      "metadata": {
        "trusted": true
      },
      "cell_type": "code",
      "source": "import pandas as pd\n\n# local onde está o arquivo de dados\n#uri = 'http://raw.githubusercontent.com/lwives/mlp/master/2014.csv' \n\nuri = 'http://raw.githubusercontent.com/lwives/mlp/master/enade.csv'\n\nprint(\"Baixando arquivo: \", uri)    \n# Lê o arquivo de dados a partir da URI/URL\n# Detalhes de funcionamento em: http://pandas.pydata.org/pandas-docs/stable/io.html#io-read-csv-table \ndf = pd.read_csv(uri, sep=\";\")\nprint(\"Arquivo baixado!\")    ",
      "execution_count": 3,
      "outputs": [
        {
          "output_type": "stream",
          "text": "Baixando arquivo:  http://raw.githubusercontent.com/lwives/mlp/master/enade.csv\nArquivo baixado!\n",
          "name": "stdout"
        }
      ]
    },
    {
      "metadata": {},
      "cell_type": "markdown",
      "source": "**O trecho seguinte mostra o conteúdo lido e presente na estrutura interna (dataframe)**"
    },
    {
      "metadata": {
        "trusted": true
      },
      "cell_type": "code",
      "source": "df",
      "execution_count": 54,
      "outputs": [
        {
          "output_type": "execute_result",
          "execution_count": 54,
          "data": {
            "text/html": "<div>\n<table border=\"1\" class=\"dataframe\">\n  <thead>\n    <tr style=\"text-align: right;\">\n      <th></th>\n      <th>nu_ano</th>\n      <th>co_grupo</th>\n      <th>co_ies</th>\n      <th>co_catad</th>\n      <th>co_orgac</th>\n      <th>co_munic_curso</th>\n      <th>co_uf_curso</th>\n      <th>co_regiao_curso</th>\n      <th>nu_idade</th>\n      <th>tp_sexo</th>\n      <th>...</th>\n      <th>nt_fg_d2</th>\n      <th>nt_dis_fg</th>\n      <th>nt_fg</th>\n      <th>nt_obj_ce</th>\n      <th>nt_ce_d1</th>\n      <th>nt_ce_d2</th>\n      <th>nt_ce_d3</th>\n      <th>nt_dis_ce</th>\n      <th>nt_ce</th>\n      <th>nt_ger</th>\n    </tr>\n  </thead>\n  <tbody>\n    <tr>\n      <th>0</th>\n      <td>2014</td>\n      <td>2001</td>\n      <td>953</td>\n      <td>10008</td>\n      <td>10028</td>\n      <td>3548500</td>\n      <td>35</td>\n      <td>3</td>\n      <td>32</td>\n      <td>F</td>\n      <td>...</td>\n      <td>77</td>\n      <td>76.5</td>\n      <td>45.6</td>\n      <td>36.4</td>\n      <td>30.0</td>\n      <td>10</td>\n      <td>0</td>\n      <td>13.3</td>\n      <td>32.9</td>\n      <td>36.1</td>\n    </tr>\n    <tr>\n      <th>1</th>\n      <td>2014</td>\n      <td>904</td>\n      <td>739</td>\n      <td>10008</td>\n      <td>10020</td>\n      <td>3201209</td>\n      <td>32</td>\n      <td>3</td>\n      <td>25</td>\n      <td>F</td>\n      <td>...</td>\n      <td>79</td>\n      <td>87.5</td>\n      <td>87.5</td>\n      <td>68.2</td>\n      <td>50.0</td>\n      <td>0</td>\n      <td>75</td>\n      <td>41.7</td>\n      <td>64.2</td>\n      <td>70.0</td>\n    </tr>\n    <tr>\n      <th>2</th>\n      <td>2014</td>\n      <td>5710</td>\n      <td>878</td>\n      <td>10008</td>\n      <td>10020</td>\n      <td>3119401</td>\n      <td>31</td>\n      <td>3</td>\n      <td>30</td>\n      <td>M</td>\n      <td>...</td>\n      <td>76</td>\n      <td>78.0</td>\n      <td>91.2</td>\n      <td>52.9</td>\n      <td>100.0</td>\n      <td>0</td>\n      <td>55</td>\n      <td>51.7</td>\n      <td>52.7</td>\n      <td>62.3</td>\n    </tr>\n    <tr>\n      <th>3</th>\n      <td>2014</td>\n      <td>6208</td>\n      <td>227</td>\n      <td>10008</td>\n      <td>10028</td>\n      <td>3548500</td>\n      <td>35</td>\n      <td>3</td>\n      <td>23</td>\n      <td>F</td>\n      <td>...</td>\n      <td>50</td>\n      <td>62.0</td>\n      <td>77.3</td>\n      <td>33.3</td>\n      <td>60.0</td>\n      <td>40</td>\n      <td>30</td>\n      <td>43.3</td>\n      <td>34.8</td>\n      <td>45.4</td>\n    </tr>\n    <tr>\n      <th>4</th>\n      <td>2014</td>\n      <td>21</td>\n      <td>402</td>\n      <td>10008</td>\n      <td>10020</td>\n      <td>5300108</td>\n      <td>53</td>\n      <td>5</td>\n      <td>22</td>\n      <td>M</td>\n      <td>...</td>\n      <td>25</td>\n      <td>49.0</td>\n      <td>79.6</td>\n      <td>57.1</td>\n      <td>35.0</td>\n      <td>25</td>\n      <td>0</td>\n      <td>20.0</td>\n      <td>51.5</td>\n      <td>58.5</td>\n    </tr>\n    <tr>\n      <th>5</th>\n      <td>2014</td>\n      <td>3502</td>\n      <td>24</td>\n      <td>10001</td>\n      <td>10028</td>\n      <td>2913606</td>\n      <td>29</td>\n      <td>2</td>\n      <td>49</td>\n      <td>M</td>\n      <td>...</td>\n      <td>18</td>\n      <td>20.5</td>\n      <td>30.7</td>\n      <td>45.5</td>\n      <td>0.0</td>\n      <td>0</td>\n      <td>0</td>\n      <td>0.0</td>\n      <td>38.7</td>\n      <td>36.7</td>\n    </tr>\n    <tr>\n      <th>6</th>\n      <td>2014</td>\n      <td>6208</td>\n      <td>3983</td>\n      <td>10008</td>\n      <td>10020</td>\n      <td>3126109</td>\n      <td>31</td>\n      <td>3</td>\n      <td>23</td>\n      <td>F</td>\n      <td>...</td>\n      <td>95</td>\n      <td>90.5</td>\n      <td>73.7</td>\n      <td>28.6</td>\n      <td>40.0</td>\n      <td>10</td>\n      <td>30</td>\n      <td>26.7</td>\n      <td>28.3</td>\n      <td>39.7</td>\n    </tr>\n    <tr>\n      <th>7</th>\n      <td>2014</td>\n      <td>2001</td>\n      <td>953</td>\n      <td>10008</td>\n      <td>10028</td>\n      <td>3548500</td>\n      <td>35</td>\n      <td>3</td>\n      <td>47</td>\n      <td>F</td>\n      <td>...</td>\n      <td>61</td>\n      <td>70.0</td>\n      <td>73.0</td>\n      <td>77.3</td>\n      <td>30.0</td>\n      <td>0</td>\n      <td>0</td>\n      <td>10.0</td>\n      <td>67.2</td>\n      <td>68.7</td>\n    </tr>\n    <tr>\n      <th>8</th>\n      <td>2014</td>\n      <td>3502</td>\n      <td>4</td>\n      <td>10002</td>\n      <td>10028</td>\n      <td>1302603</td>\n      <td>13</td>\n      <td>1</td>\n      <td>21</td>\n      <td>F</td>\n      <td>...</td>\n      <td>51</td>\n      <td>75.0</td>\n      <td>75.0</td>\n      <td>54.5</td>\n      <td>0.0</td>\n      <td>0</td>\n      <td>0</td>\n      <td>0.0</td>\n      <td>46.3</td>\n      <td>53.5</td>\n    </tr>\n    <tr>\n      <th>9</th>\n      <td>2014</td>\n      <td>2001</td>\n      <td>1736</td>\n      <td>10008</td>\n      <td>10020</td>\n      <td>3303302</td>\n      <td>33</td>\n      <td>3</td>\n      <td>36</td>\n      <td>F</td>\n      <td>...</td>\n      <td>32</td>\n      <td>16.0</td>\n      <td>28.9</td>\n      <td>40.9</td>\n      <td>25.0</td>\n      <td>0</td>\n      <td>40</td>\n      <td>21.7</td>\n      <td>38.0</td>\n      <td>35.7</td>\n    </tr>\n    <tr>\n      <th>10</th>\n      <td>2014</td>\n      <td>2001</td>\n      <td>1365</td>\n      <td>10008</td>\n      <td>10020</td>\n      <td>3550308</td>\n      <td>35</td>\n      <td>3</td>\n      <td>45</td>\n      <td>F</td>\n      <td>...</td>\n      <td>62</td>\n      <td>55.5</td>\n      <td>37.2</td>\n      <td>50.0</td>\n      <td>35.0</td>\n      <td>30</td>\n      <td>70</td>\n      <td>45.0</td>\n      <td>49.3</td>\n      <td>46.3</td>\n    </tr>\n    <tr>\n      <th>11</th>\n      <td>2014</td>\n      <td>2001</td>\n      <td>1491</td>\n      <td>10005</td>\n      <td>10020</td>\n      <td>4106902</td>\n      <td>41</td>\n      <td>4</td>\n      <td>30</td>\n      <td>F</td>\n      <td>...</td>\n      <td>93</td>\n      <td>73.5</td>\n      <td>59.4</td>\n      <td>72.7</td>\n      <td>45.0</td>\n      <td>15</td>\n      <td>30</td>\n      <td>30.0</td>\n      <td>66.3</td>\n      <td>64.6</td>\n    </tr>\n    <tr>\n      <th>12</th>\n      <td>2014</td>\n      <td>2001</td>\n      <td>298</td>\n      <td>10005</td>\n      <td>10028</td>\n      <td>4113700</td>\n      <td>41</td>\n      <td>4</td>\n      <td>28</td>\n      <td>F</td>\n      <td>...</td>\n      <td>65</td>\n      <td>80.5</td>\n      <td>84.7</td>\n      <td>68.2</td>\n      <td>75.0</td>\n      <td>25</td>\n      <td>40</td>\n      <td>46.7</td>\n      <td>65.0</td>\n      <td>69.9</td>\n    </tr>\n    <tr>\n      <th>13</th>\n      <td>2014</td>\n      <td>2001</td>\n      <td>682</td>\n      <td>10005</td>\n      <td>10022</td>\n      <td>3147006</td>\n      <td>31</td>\n      <td>3</td>\n      <td>24</td>\n      <td>F</td>\n      <td>...</td>\n      <td>95</td>\n      <td>60.0</td>\n      <td>46.5</td>\n      <td>45.5</td>\n      <td>35.0</td>\n      <td>50</td>\n      <td>50</td>\n      <td>45.0</td>\n      <td>45.4</td>\n      <td>45.7</td>\n    </tr>\n    <tr>\n      <th>14</th>\n      <td>2014</td>\n      <td>1602</td>\n      <td>299</td>\n      <td>10008</td>\n      <td>10022</td>\n      <td>4112108</td>\n      <td>41</td>\n      <td>4</td>\n      <td>21</td>\n      <td>F</td>\n      <td>...</td>\n      <td>78</td>\n      <td>65.0</td>\n      <td>63.5</td>\n      <td>38.9</td>\n      <td>0.0</td>\n      <td>30</td>\n      <td>80</td>\n      <td>36.7</td>\n      <td>38.6</td>\n      <td>44.8</td>\n    </tr>\n    <tr>\n      <th>15</th>\n      <td>2014</td>\n      <td>6307</td>\n      <td>3984</td>\n      <td>10002</td>\n      <td>10028</td>\n      <td>2918407</td>\n      <td>29</td>\n      <td>2</td>\n      <td>25</td>\n      <td>F</td>\n      <td>...</td>\n      <td>67</td>\n      <td>62.0</td>\n      <td>62.3</td>\n      <td>41.2</td>\n      <td>50.0</td>\n      <td>0</td>\n      <td>30</td>\n      <td>26.7</td>\n      <td>39.0</td>\n      <td>44.8</td>\n    </tr>\n    <tr>\n      <th>16</th>\n      <td>2014</td>\n      <td>5710</td>\n      <td>124</td>\n      <td>10008</td>\n      <td>10020</td>\n      <td>3503208</td>\n      <td>35</td>\n      <td>3</td>\n      <td>22</td>\n      <td>M</td>\n      <td>...</td>\n      <td>79</td>\n      <td>78.0</td>\n      <td>68.7</td>\n      <td>58.8</td>\n      <td>0.0</td>\n      <td>15</td>\n      <td>10</td>\n      <td>8.3</td>\n      <td>51.2</td>\n      <td>55.6</td>\n    </tr>\n    <tr>\n      <th>17</th>\n      <td>2014</td>\n      <td>4006</td>\n      <td>5285</td>\n      <td>10008</td>\n      <td>10022</td>\n      <td>4321204</td>\n      <td>43</td>\n      <td>4</td>\n      <td>60</td>\n      <td>M</td>\n      <td>...</td>\n      <td>19</td>\n      <td>18.0</td>\n      <td>29.7</td>\n      <td>36.8</td>\n      <td>0.0</td>\n      <td>0</td>\n      <td>0</td>\n      <td>0.0</td>\n      <td>31.3</td>\n      <td>30.9</td>\n    </tr>\n    <tr>\n      <th>18</th>\n      <td>2014</td>\n      <td>3202</td>\n      <td>568</td>\n      <td>10001</td>\n      <td>10028</td>\n      <td>2111300</td>\n      <td>21</td>\n      <td>2</td>\n      <td>31</td>\n      <td>M</td>\n      <td>...</td>\n      <td>65</td>\n      <td>72.0</td>\n      <td>66.3</td>\n      <td>17.4</td>\n      <td>0.0</td>\n      <td>0</td>\n      <td>30</td>\n      <td>10.0</td>\n      <td>16.3</td>\n      <td>28.8</td>\n    </tr>\n    <tr>\n      <th>19</th>\n      <td>2014</td>\n      <td>904</td>\n      <td>673</td>\n      <td>121</td>\n      <td>10020</td>\n      <td>5003702</td>\n      <td>50</td>\n      <td>5</td>\n      <td>24</td>\n      <td>F</td>\n      <td>...</td>\n      <td>90</td>\n      <td>73.5</td>\n      <td>74.4</td>\n      <td>9.1</td>\n      <td>0.0</td>\n      <td>70</td>\n      <td>30</td>\n      <td>33.3</td>\n      <td>12.7</td>\n      <td>28.1</td>\n    </tr>\n    <tr>\n      <th>20</th>\n      <td>2014</td>\n      <td>2402</td>\n      <td>398</td>\n      <td>10005</td>\n      <td>10028</td>\n      <td>2800308</td>\n      <td>28</td>\n      <td>2</td>\n      <td>28</td>\n      <td>M</td>\n      <td>...</td>\n      <td>47</td>\n      <td>38.5</td>\n      <td>45.4</td>\n      <td>23.8</td>\n      <td>10.0</td>\n      <td>0</td>\n      <td>0</td>\n      <td>3.3</td>\n      <td>20.7</td>\n      <td>26.9</td>\n    </tr>\n    <tr>\n      <th>21</th>\n      <td>2014</td>\n      <td>2501</td>\n      <td>1472</td>\n      <td>10005</td>\n      <td>10020</td>\n      <td>4207502</td>\n      <td>42</td>\n      <td>4</td>\n      <td>51</td>\n      <td>F</td>\n      <td>...</td>\n      <td>93</td>\n      <td>90.0</td>\n      <td>43.5</td>\n      <td>45.0</td>\n      <td>20.0</td>\n      <td>30</td>\n      <td>0</td>\n      <td>16.7</td>\n      <td>40.8</td>\n      <td>41.5</td>\n    </tr>\n    <tr>\n      <th>22</th>\n      <td>2014</td>\n      <td>3502</td>\n      <td>666</td>\n      <td>10001</td>\n      <td>10028</td>\n      <td>2910800</td>\n      <td>29</td>\n      <td>2</td>\n      <td>23</td>\n      <td>M</td>\n      <td>...</td>\n      <td>94</td>\n      <td>86.0</td>\n      <td>79.4</td>\n      <td>72.7</td>\n      <td>40.0</td>\n      <td>0</td>\n      <td>40</td>\n      <td>26.7</td>\n      <td>65.8</td>\n      <td>69.2</td>\n    </tr>\n    <tr>\n      <th>23</th>\n      <td>2014</td>\n      <td>5710</td>\n      <td>275</td>\n      <td>10008</td>\n      <td>10028</td>\n      <td>3549904</td>\n      <td>35</td>\n      <td>3</td>\n      <td>25</td>\n      <td>M</td>\n      <td>...</td>\n      <td>23</td>\n      <td>48.0</td>\n      <td>49.2</td>\n      <td>35.3</td>\n      <td>0.0</td>\n      <td>35</td>\n      <td>20</td>\n      <td>18.3</td>\n      <td>32.8</td>\n      <td>36.9</td>\n    </tr>\n    <tr>\n      <th>24</th>\n      <td>2014</td>\n      <td>2001</td>\n      <td>6</td>\n      <td>10002</td>\n      <td>10028</td>\n      <td>3146107</td>\n      <td>31</td>\n      <td>3</td>\n      <td>31</td>\n      <td>F</td>\n      <td>...</td>\n      <td>78</td>\n      <td>78.5</td>\n      <td>61.4</td>\n      <td>59.1</td>\n      <td>30.0</td>\n      <td>15</td>\n      <td>0</td>\n      <td>15.0</td>\n      <td>52.5</td>\n      <td>54.7</td>\n    </tr>\n    <tr>\n      <th>25</th>\n      <td>2014</td>\n      <td>2401</td>\n      <td>586</td>\n      <td>10002</td>\n      <td>10028</td>\n      <td>3304557</td>\n      <td>33</td>\n      <td>3</td>\n      <td>21</td>\n      <td>M</td>\n      <td>...</td>\n      <td>95</td>\n      <td>83.0</td>\n      <td>78.2</td>\n      <td>70.8</td>\n      <td>10.0</td>\n      <td>100</td>\n      <td>0</td>\n      <td>36.7</td>\n      <td>65.7</td>\n      <td>68.8</td>\n    </tr>\n    <tr>\n      <th>26</th>\n      <td>2014</td>\n      <td>6307</td>\n      <td>694</td>\n      <td>10002</td>\n      <td>10028</td>\n      <td>5002704</td>\n      <td>50</td>\n      <td>5</td>\n      <td>24</td>\n      <td>F</td>\n      <td>...</td>\n      <td>82</td>\n      <td>83.5</td>\n      <td>55.9</td>\n      <td>58.8</td>\n      <td>30.0</td>\n      <td>30</td>\n      <td>20</td>\n      <td>26.7</td>\n      <td>54.0</td>\n      <td>54.5</td>\n    </tr>\n    <tr>\n      <th>27</th>\n      <td>2014</td>\n      <td>5710</td>\n      <td>583</td>\n      <td>10002</td>\n      <td>10028</td>\n      <td>2304400</td>\n      <td>23</td>\n      <td>2</td>\n      <td>27</td>\n      <td>M</td>\n      <td>...</td>\n      <td>0</td>\n      <td>0.0</td>\n      <td>22.5</td>\n      <td>58.8</td>\n      <td>0.0</td>\n      <td>0</td>\n      <td>0</td>\n      <td>0.0</td>\n      <td>50.0</td>\n      <td>43.1</td>\n    </tr>\n    <tr>\n      <th>28</th>\n      <td>2014</td>\n      <td>6306</td>\n      <td>107</td>\n      <td>10002</td>\n      <td>10028</td>\n      <td>3145901</td>\n      <td>31</td>\n      <td>3</td>\n      <td>27</td>\n      <td>F</td>\n      <td>...</td>\n      <td>13</td>\n      <td>50.0</td>\n      <td>65.0</td>\n      <td>45.5</td>\n      <td>65.0</td>\n      <td>0</td>\n      <td>10</td>\n      <td>25.0</td>\n      <td>42.4</td>\n      <td>48.1</td>\n    </tr>\n    <tr>\n      <th>29</th>\n      <td>2014</td>\n      <td>6208</td>\n      <td>575</td>\n      <td>10002</td>\n      <td>10028</td>\n      <td>3106200</td>\n      <td>31</td>\n      <td>3</td>\n      <td>25</td>\n      <td>M</td>\n      <td>...</td>\n      <td>95</td>\n      <td>95.0</td>\n      <td>75.5</td>\n      <td>61.9</td>\n      <td>40.0</td>\n      <td>30</td>\n      <td>30</td>\n      <td>33.3</td>\n      <td>57.6</td>\n      <td>62.1</td>\n    </tr>\n    <tr>\n      <th>...</th>\n      <td>...</td>\n      <td>...</td>\n      <td>...</td>\n      <td>...</td>\n      <td>...</td>\n      <td>...</td>\n      <td>...</td>\n      <td>...</td>\n      <td>...</td>\n      <td>...</td>\n      <td>...</td>\n      <td>...</td>\n      <td>...</td>\n      <td>...</td>\n      <td>...</td>\n      <td>...</td>\n      <td>...</td>\n      <td>...</td>\n      <td>...</td>\n      <td>...</td>\n      <td>...</td>\n    </tr>\n    <tr>\n      <th>103497</th>\n      <td>2013</td>\n      <td>3501</td>\n      <td>206</td>\n      <td>5</td>\n      <td>2</td>\n      <td>3550308</td>\n      <td>35</td>\n      <td>3</td>\n      <td>25</td>\n      <td>F</td>\n      <td>...</td>\n      <td>0</td>\n      <td>0.0</td>\n      <td>0.0</td>\n      <td>0.0</td>\n      <td>0.0</td>\n      <td>0</td>\n      <td>0</td>\n      <td>0.0</td>\n      <td>0.0</td>\n      <td>0.0</td>\n    </tr>\n    <tr>\n      <th>103498</th>\n      <td>2013</td>\n      <td>28</td>\n      <td>426</td>\n      <td>5</td>\n      <td>2</td>\n      <td>4316907</td>\n      <td>43</td>\n      <td>4</td>\n      <td>22</td>\n      <td>F</td>\n      <td>...</td>\n      <td>0</td>\n      <td>0.0</td>\n      <td>45.0</td>\n      <td>50.0</td>\n      <td>25.0</td>\n      <td>0</td>\n      <td>30</td>\n      <td>18.3</td>\n      <td>45.2</td>\n      <td>45.2</td>\n    </tr>\n    <tr>\n      <th>103499</th>\n      <td>2013</td>\n      <td>23</td>\n      <td>2409</td>\n      <td>5</td>\n      <td>3</td>\n      <td>2604106</td>\n      <td>26</td>\n      <td>2</td>\n      <td>21</td>\n      <td>F</td>\n      <td>...</td>\n      <td>0</td>\n      <td>40.5</td>\n      <td>61.2</td>\n      <td>71.4</td>\n      <td>70.0</td>\n      <td>0</td>\n      <td>0</td>\n      <td>23.3</td>\n      <td>64.2</td>\n      <td>63.5</td>\n    </tr>\n    <tr>\n      <th>103500</th>\n      <td>2013</td>\n      <td>28</td>\n      <td>718</td>\n      <td>4</td>\n      <td>1</td>\n      <td>2408102</td>\n      <td>24</td>\n      <td>2</td>\n      <td>28</td>\n      <td>F</td>\n      <td>...</td>\n      <td>43</td>\n      <td>41.5</td>\n      <td>31.6</td>\n      <td>36.4</td>\n      <td>15.0</td>\n      <td>30</td>\n      <td>25</td>\n      <td>23.3</td>\n      <td>34.4</td>\n      <td>33.7</td>\n    </tr>\n    <tr>\n      <th>103501</th>\n      <td>2013</td>\n      <td>38</td>\n      <td>829</td>\n      <td>2</td>\n      <td>1</td>\n      <td>1721000</td>\n      <td>17</td>\n      <td>1</td>\n      <td>56</td>\n      <td>F</td>\n      <td>...</td>\n      <td>0</td>\n      <td>20.0</td>\n      <td>23.0</td>\n      <td>20.0</td>\n      <td>0.0</td>\n      <td>0</td>\n      <td>0</td>\n      <td>0.0</td>\n      <td>17.0</td>\n      <td>18.5</td>\n    </tr>\n    <tr>\n      <th>103502</th>\n      <td>2013</td>\n      <td>19</td>\n      <td>295</td>\n      <td>5</td>\n      <td>1</td>\n      <td>4316808</td>\n      <td>43</td>\n      <td>4</td>\n      <td>24</td>\n      <td>F</td>\n      <td>...</td>\n      <td>40</td>\n      <td>46.5</td>\n      <td>33.6</td>\n      <td>47.8</td>\n      <td>0.0</td>\n      <td>90</td>\n      <td>30</td>\n      <td>40.0</td>\n      <td>46.6</td>\n      <td>43.4</td>\n    </tr>\n    <tr>\n      <th>103503</th>\n      <td>2013</td>\n      <td>36</td>\n      <td>449</td>\n      <td>5</td>\n      <td>1</td>\n      <td>4303004</td>\n      <td>43</td>\n      <td>4</td>\n      <td>25</td>\n      <td>M</td>\n      <td>...</td>\n      <td>0</td>\n      <td>25.0</td>\n      <td>32.5</td>\n      <td>39.1</td>\n      <td>10.0</td>\n      <td>85</td>\n      <td>30</td>\n      <td>41.7</td>\n      <td>39.5</td>\n      <td>37.8</td>\n    </tr>\n    <tr>\n      <th>103504</th>\n      <td>2013</td>\n      <td>38</td>\n      <td>298</td>\n      <td>4</td>\n      <td>1</td>\n      <td>4113700</td>\n      <td>41</td>\n      <td>4</td>\n      <td>27</td>\n      <td>F</td>\n      <td>...</td>\n      <td>42</td>\n      <td>48.0</td>\n      <td>56.7</td>\n      <td>35.0</td>\n      <td>0.0</td>\n      <td>0</td>\n      <td>0</td>\n      <td>0.0</td>\n      <td>29.8</td>\n      <td>36.5</td>\n    </tr>\n    <tr>\n      <th>103505</th>\n      <td>2013</td>\n      <td>23</td>\n      <td>555</td>\n      <td>5</td>\n      <td>1</td>\n      <td>2304400</td>\n      <td>23</td>\n      <td>2</td>\n      <td>24</td>\n      <td>F</td>\n      <td>...</td>\n      <td>46</td>\n      <td>45.5</td>\n      <td>48.2</td>\n      <td>52.4</td>\n      <td>60.0</td>\n      <td>35</td>\n      <td>0</td>\n      <td>31.7</td>\n      <td>49.3</td>\n      <td>49.0</td>\n    </tr>\n    <tr>\n      <th>103506</th>\n      <td>2013</td>\n      <td>17</td>\n      <td>1196</td>\n      <td>4</td>\n      <td>2</td>\n      <td>4115200</td>\n      <td>41</td>\n      <td>4</td>\n      <td>27</td>\n      <td>M</td>\n      <td>...</td>\n      <td>37</td>\n      <td>54.0</td>\n      <td>51.6</td>\n      <td>68.0</td>\n      <td>25.0</td>\n      <td>70</td>\n      <td>15</td>\n      <td>36.7</td>\n      <td>63.3</td>\n      <td>60.4</td>\n    </tr>\n    <tr>\n      <th>103507</th>\n      <td>2013</td>\n      <td>38</td>\n      <td>298</td>\n      <td>4</td>\n      <td>1</td>\n      <td>4113700</td>\n      <td>41</td>\n      <td>4</td>\n      <td>24</td>\n      <td>F</td>\n      <td>...</td>\n      <td>51</td>\n      <td>52.0</td>\n      <td>50.8</td>\n      <td>35.0</td>\n      <td>25.0</td>\n      <td>50</td>\n      <td>0</td>\n      <td>25.0</td>\n      <td>33.5</td>\n      <td>37.8</td>\n    </tr>\n    <tr>\n      <th>103508</th>\n      <td>2013</td>\n      <td>38</td>\n      <td>298</td>\n      <td>4</td>\n      <td>1</td>\n      <td>4113700</td>\n      <td>41</td>\n      <td>4</td>\n      <td>48</td>\n      <td>F</td>\n      <td>...</td>\n      <td>42</td>\n      <td>26.0</td>\n      <td>32.9</td>\n      <td>40.0</td>\n      <td>5.0</td>\n      <td>10</td>\n      <td>5</td>\n      <td>6.7</td>\n      <td>35.0</td>\n      <td>34.5</td>\n    </tr>\n    <tr>\n      <th>103509</th>\n      <td>2013</td>\n      <td>19</td>\n      <td>4849</td>\n      <td>4</td>\n      <td>3</td>\n      <td>1702109</td>\n      <td>17</td>\n      <td>1</td>\n      <td>21</td>\n      <td>M</td>\n      <td>...</td>\n      <td>74</td>\n      <td>64.0</td>\n      <td>48.1</td>\n      <td>30.4</td>\n      <td>25.0</td>\n      <td>10</td>\n      <td>30</td>\n      <td>21.7</td>\n      <td>29.1</td>\n      <td>33.9</td>\n    </tr>\n    <tr>\n      <th>103510</th>\n      <td>2013</td>\n      <td>28</td>\n      <td>621</td>\n      <td>5</td>\n      <td>2</td>\n      <td>2704302</td>\n      <td>27</td>\n      <td>2</td>\n      <td>22</td>\n      <td>F</td>\n      <td>...</td>\n      <td>48</td>\n      <td>52.0</td>\n      <td>58.3</td>\n      <td>36.4</td>\n      <td>55.0</td>\n      <td>15</td>\n      <td>40</td>\n      <td>36.7</td>\n      <td>36.4</td>\n      <td>41.9</td>\n    </tr>\n    <tr>\n      <th>103511</th>\n      <td>2013</td>\n      <td>38</td>\n      <td>298</td>\n      <td>4</td>\n      <td>1</td>\n      <td>4113700</td>\n      <td>41</td>\n      <td>4</td>\n      <td>35</td>\n      <td>F</td>\n      <td>...</td>\n      <td>50</td>\n      <td>59.5</td>\n      <td>53.8</td>\n      <td>40.0</td>\n      <td>0.0</td>\n      <td>5</td>\n      <td>0</td>\n      <td>1.7</td>\n      <td>34.3</td>\n      <td>39.2</td>\n    </tr>\n    <tr>\n      <th>103512</th>\n      <td>2013</td>\n      <td>12</td>\n      <td>792</td>\n      <td>5</td>\n      <td>2</td>\n      <td>1501402</td>\n      <td>15</td>\n      <td>1</td>\n      <td>25</td>\n      <td>M</td>\n      <td>...</td>\n      <td>63</td>\n      <td>68.5</td>\n      <td>42.4</td>\n      <td>36.0</td>\n      <td>12.5</td>\n      <td>0</td>\n      <td>25</td>\n      <td>12.5</td>\n      <td>32.5</td>\n      <td>35.0</td>\n    </tr>\n    <tr>\n      <th>103513</th>\n      <td>2013</td>\n      <td>38</td>\n      <td>143</td>\n      <td>5</td>\n      <td>1</td>\n      <td>3170107</td>\n      <td>31</td>\n      <td>3</td>\n      <td>24</td>\n      <td>F</td>\n      <td>...</td>\n      <td>23</td>\n      <td>47.0</td>\n      <td>41.3</td>\n      <td>25.0</td>\n      <td>0.0</td>\n      <td>0</td>\n      <td>10</td>\n      <td>3.3</td>\n      <td>21.7</td>\n      <td>26.6</td>\n    </tr>\n    <tr>\n      <th>103514</th>\n      <td>2013</td>\n      <td>28</td>\n      <td>2724</td>\n      <td>4</td>\n      <td>3</td>\n      <td>2105302</td>\n      <td>21</td>\n      <td>2</td>\n      <td>21</td>\n      <td>F</td>\n      <td>...</td>\n      <td>25</td>\n      <td>12.5</td>\n      <td>35.0</td>\n      <td>36.4</td>\n      <td>20.0</td>\n      <td>30</td>\n      <td>15</td>\n      <td>21.7</td>\n      <td>34.2</td>\n      <td>34.4</td>\n    </tr>\n    <tr>\n      <th>103515</th>\n      <td>2013</td>\n      <td>3501</td>\n      <td>1917</td>\n      <td>4</td>\n      <td>3</td>\n      <td>1100049</td>\n      <td>11</td>\n      <td>1</td>\n      <td>26</td>\n      <td>F</td>\n      <td>...</td>\n      <td>23</td>\n      <td>41.5</td>\n      <td>54.1</td>\n      <td>27.8</td>\n      <td>15.0</td>\n      <td>90</td>\n      <td>60</td>\n      <td>55.0</td>\n      <td>31.9</td>\n      <td>37.5</td>\n    </tr>\n    <tr>\n      <th>103516</th>\n      <td>2013</td>\n      <td>5</td>\n      <td>163</td>\n      <td>4</td>\n      <td>1</td>\n      <td>3304557</td>\n      <td>33</td>\n      <td>3</td>\n      <td>38</td>\n      <td>F</td>\n      <td>...</td>\n      <td>0</td>\n      <td>23.0</td>\n      <td>9.2</td>\n      <td>26.1</td>\n      <td>0.0</td>\n      <td>0</td>\n      <td>0</td>\n      <td>0.0</td>\n      <td>22.2</td>\n      <td>19.0</td>\n    </tr>\n    <tr>\n      <th>103517</th>\n      <td>2013</td>\n      <td>6</td>\n      <td>743</td>\n      <td>5</td>\n      <td>3</td>\n      <td>3303302</td>\n      <td>33</td>\n      <td>3</td>\n      <td>24</td>\n      <td>F</td>\n      <td>...</td>\n      <td>0</td>\n      <td>0.0</td>\n      <td>37.5</td>\n      <td>25.0</td>\n      <td>0.0</td>\n      <td>0</td>\n      <td>0</td>\n      <td>0.0</td>\n      <td>21.3</td>\n      <td>25.4</td>\n    </tr>\n    <tr>\n      <th>103518</th>\n      <td>2013</td>\n      <td>6</td>\n      <td>575</td>\n      <td>1</td>\n      <td>1</td>\n      <td>3106200</td>\n      <td>31</td>\n      <td>3</td>\n      <td>24</td>\n      <td>F</td>\n      <td>...</td>\n      <td>0</td>\n      <td>0.0</td>\n      <td>15.0</td>\n      <td>40.0</td>\n      <td>0.0</td>\n      <td>0</td>\n      <td>0</td>\n      <td>0.0</td>\n      <td>34.0</td>\n      <td>29.3</td>\n    </tr>\n    <tr>\n      <th>103519</th>\n      <td>2013</td>\n      <td>12</td>\n      <td>555</td>\n      <td>5</td>\n      <td>1</td>\n      <td>2304400</td>\n      <td>23</td>\n      <td>2</td>\n      <td>25</td>\n      <td>F</td>\n      <td>...</td>\n      <td>66</td>\n      <td>78.5</td>\n      <td>76.4</td>\n      <td>64.0</td>\n      <td>30.0</td>\n      <td>45</td>\n      <td>65</td>\n      <td>46.7</td>\n      <td>61.4</td>\n      <td>65.2</td>\n    </tr>\n    <tr>\n      <th>103520</th>\n      <td>2013</td>\n      <td>92</td>\n      <td>1472</td>\n      <td>4</td>\n      <td>2</td>\n      <td>4207502</td>\n      <td>42</td>\n      <td>4</td>\n      <td>46</td>\n      <td>M</td>\n      <td>...</td>\n      <td>48</td>\n      <td>39.5</td>\n      <td>45.8</td>\n      <td>36.8</td>\n      <td>35.0</td>\n      <td>60</td>\n      <td>40</td>\n      <td>45.0</td>\n      <td>38.0</td>\n      <td>40.0</td>\n    </tr>\n    <tr>\n      <th>103521</th>\n      <td>2013</td>\n      <td>36</td>\n      <td>385</td>\n      <td>4</td>\n      <td>1</td>\n      <td>2927408</td>\n      <td>29</td>\n      <td>2</td>\n      <td>23</td>\n      <td>F</td>\n      <td>...</td>\n      <td>57</td>\n      <td>53.0</td>\n      <td>51.2</td>\n      <td>69.6</td>\n      <td>85.0</td>\n      <td>10</td>\n      <td>40</td>\n      <td>45.0</td>\n      <td>65.9</td>\n      <td>62.2</td>\n    </tr>\n    <tr>\n      <th>103522</th>\n      <td>2013</td>\n      <td>23</td>\n      <td>316</td>\n      <td>5</td>\n      <td>1</td>\n      <td>3550308</td>\n      <td>35</td>\n      <td>3</td>\n      <td>28</td>\n      <td>F</td>\n      <td>...</td>\n      <td>32</td>\n      <td>36.5</td>\n      <td>44.6</td>\n      <td>81.0</td>\n      <td>60.0</td>\n      <td>30</td>\n      <td>30</td>\n      <td>40.0</td>\n      <td>74.9</td>\n      <td>67.3</td>\n    </tr>\n    <tr>\n      <th>103523</th>\n      <td>2013</td>\n      <td>38</td>\n      <td>449</td>\n      <td>5</td>\n      <td>1</td>\n      <td>4304606</td>\n      <td>43</td>\n      <td>4</td>\n      <td>39</td>\n      <td>F</td>\n      <td>...</td>\n      <td>0</td>\n      <td>0.0</td>\n      <td>37.5</td>\n      <td>30.0</td>\n      <td>0.0</td>\n      <td>0</td>\n      <td>0</td>\n      <td>0.0</td>\n      <td>25.5</td>\n      <td>28.5</td>\n    </tr>\n    <tr>\n      <th>103524</th>\n      <td>2013</td>\n      <td>38</td>\n      <td>449</td>\n      <td>5</td>\n      <td>1</td>\n      <td>4304606</td>\n      <td>43</td>\n      <td>4</td>\n      <td>59</td>\n      <td>F</td>\n      <td>...</td>\n      <td>40</td>\n      <td>39.0</td>\n      <td>60.6</td>\n      <td>25.0</td>\n      <td>5.0</td>\n      <td>5</td>\n      <td>30</td>\n      <td>13.3</td>\n      <td>23.2</td>\n      <td>32.6</td>\n    </tr>\n    <tr>\n      <th>103525</th>\n      <td>2013</td>\n      <td>23</td>\n      <td>4197</td>\n      <td>4</td>\n      <td>3</td>\n      <td>2211001</td>\n      <td>22</td>\n      <td>2</td>\n      <td>31</td>\n      <td>F</td>\n      <td>...</td>\n      <td>38</td>\n      <td>60.5</td>\n      <td>54.2</td>\n      <td>66.7</td>\n      <td>80.0</td>\n      <td>15</td>\n      <td>0</td>\n      <td>31.7</td>\n      <td>61.5</td>\n      <td>59.7</td>\n    </tr>\n    <tr>\n      <th>103526</th>\n      <td>2013</td>\n      <td>3501</td>\n      <td>1845</td>\n      <td>4</td>\n      <td>3</td>\n      <td>3547809</td>\n      <td>35</td>\n      <td>3</td>\n      <td>21</td>\n      <td>M</td>\n      <td>...</td>\n      <td>54</td>\n      <td>52.5</td>\n      <td>51.0</td>\n      <td>94.4</td>\n      <td>15.0</td>\n      <td>60</td>\n      <td>90</td>\n      <td>55.0</td>\n      <td>88.5</td>\n      <td>79.1</td>\n    </tr>\n  </tbody>\n</table>\n<p>103527 rows × 24 columns</p>\n</div>",
            "text/plain": "        nu_ano  co_grupo  co_ies  co_catad  co_orgac  co_munic_curso  \\\n0         2014      2001     953     10008     10028         3548500   \n1         2014       904     739     10008     10020         3201209   \n2         2014      5710     878     10008     10020         3119401   \n3         2014      6208     227     10008     10028         3548500   \n4         2014        21     402     10008     10020         5300108   \n5         2014      3502      24     10001     10028         2913606   \n6         2014      6208    3983     10008     10020         3126109   \n7         2014      2001     953     10008     10028         3548500   \n8         2014      3502       4     10002     10028         1302603   \n9         2014      2001    1736     10008     10020         3303302   \n10        2014      2001    1365     10008     10020         3550308   \n11        2014      2001    1491     10005     10020         4106902   \n12        2014      2001     298     10005     10028         4113700   \n13        2014      2001     682     10005     10022         3147006   \n14        2014      1602     299     10008     10022         4112108   \n15        2014      6307    3984     10002     10028         2918407   \n16        2014      5710     124     10008     10020         3503208   \n17        2014      4006    5285     10008     10022         4321204   \n18        2014      3202     568     10001     10028         2111300   \n19        2014       904     673       121     10020         5003702   \n20        2014      2402     398     10005     10028         2800308   \n21        2014      2501    1472     10005     10020         4207502   \n22        2014      3502     666     10001     10028         2910800   \n23        2014      5710     275     10008     10028         3549904   \n24        2014      2001       6     10002     10028         3146107   \n25        2014      2401     586     10002     10028         3304557   \n26        2014      6307     694     10002     10028         5002704   \n27        2014      5710     583     10002     10028         2304400   \n28        2014      6306     107     10002     10028         3145901   \n29        2014      6208     575     10002     10028         3106200   \n...        ...       ...     ...       ...       ...             ...   \n103497    2013      3501     206         5         2         3550308   \n103498    2013        28     426         5         2         4316907   \n103499    2013        23    2409         5         3         2604106   \n103500    2013        28     718         4         1         2408102   \n103501    2013        38     829         2         1         1721000   \n103502    2013        19     295         5         1         4316808   \n103503    2013        36     449         5         1         4303004   \n103504    2013        38     298         4         1         4113700   \n103505    2013        23     555         5         1         2304400   \n103506    2013        17    1196         4         2         4115200   \n103507    2013        38     298         4         1         4113700   \n103508    2013        38     298         4         1         4113700   \n103509    2013        19    4849         4         3         1702109   \n103510    2013        28     621         5         2         2704302   \n103511    2013        38     298         4         1         4113700   \n103512    2013        12     792         5         2         1501402   \n103513    2013        38     143         5         1         3170107   \n103514    2013        28    2724         4         3         2105302   \n103515    2013      3501    1917         4         3         1100049   \n103516    2013         5     163         4         1         3304557   \n103517    2013         6     743         5         3         3303302   \n103518    2013         6     575         1         1         3106200   \n103519    2013        12     555         5         1         2304400   \n103520    2013        92    1472         4         2         4207502   \n103521    2013        36     385         4         1         2927408   \n103522    2013        23     316         5         1         3550308   \n103523    2013        38     449         5         1         4304606   \n103524    2013        38     449         5         1         4304606   \n103525    2013        23    4197         4         3         2211001   \n103526    2013      3501    1845         4         3         3547809   \n\n        co_uf_curso  co_regiao_curso  nu_idade tp_sexo   ...    nt_fg_d2  \\\n0                35                3        32       F   ...          77   \n1                32                3        25       F   ...          79   \n2                31                3        30       M   ...          76   \n3                35                3        23       F   ...          50   \n4                53                5        22       M   ...          25   \n5                29                2        49       M   ...          18   \n6                31                3        23       F   ...          95   \n7                35                3        47       F   ...          61   \n8                13                1        21       F   ...          51   \n9                33                3        36       F   ...          32   \n10               35                3        45       F   ...          62   \n11               41                4        30       F   ...          93   \n12               41                4        28       F   ...          65   \n13               31                3        24       F   ...          95   \n14               41                4        21       F   ...          78   \n15               29                2        25       F   ...          67   \n16               35                3        22       M   ...          79   \n17               43                4        60       M   ...          19   \n18               21                2        31       M   ...          65   \n19               50                5        24       F   ...          90   \n20               28                2        28       M   ...          47   \n21               42                4        51       F   ...          93   \n22               29                2        23       M   ...          94   \n23               35                3        25       M   ...          23   \n24               31                3        31       F   ...          78   \n25               33                3        21       M   ...          95   \n26               50                5        24       F   ...          82   \n27               23                2        27       M   ...           0   \n28               31                3        27       F   ...          13   \n29               31                3        25       M   ...          95   \n...             ...              ...       ...     ...   ...         ...   \n103497           35                3        25       F   ...           0   \n103498           43                4        22       F   ...           0   \n103499           26                2        21       F   ...           0   \n103500           24                2        28       F   ...          43   \n103501           17                1        56       F   ...           0   \n103502           43                4        24       F   ...          40   \n103503           43                4        25       M   ...           0   \n103504           41                4        27       F   ...          42   \n103505           23                2        24       F   ...          46   \n103506           41                4        27       M   ...          37   \n103507           41                4        24       F   ...          51   \n103508           41                4        48       F   ...          42   \n103509           17                1        21       M   ...          74   \n103510           27                2        22       F   ...          48   \n103511           41                4        35       F   ...          50   \n103512           15                1        25       M   ...          63   \n103513           31                3        24       F   ...          23   \n103514           21                2        21       F   ...          25   \n103515           11                1        26       F   ...          23   \n103516           33                3        38       F   ...           0   \n103517           33                3        24       F   ...           0   \n103518           31                3        24       F   ...           0   \n103519           23                2        25       F   ...          66   \n103520           42                4        46       M   ...          48   \n103521           29                2        23       F   ...          57   \n103522           35                3        28       F   ...          32   \n103523           43                4        39       F   ...           0   \n103524           43                4        59       F   ...          40   \n103525           22                2        31       F   ...          38   \n103526           35                3        21       M   ...          54   \n\n        nt_dis_fg  nt_fg  nt_obj_ce  nt_ce_d1  nt_ce_d2  nt_ce_d3  nt_dis_ce  \\\n0            76.5   45.6       36.4      30.0        10         0       13.3   \n1            87.5   87.5       68.2      50.0         0        75       41.7   \n2            78.0   91.2       52.9     100.0         0        55       51.7   \n3            62.0   77.3       33.3      60.0        40        30       43.3   \n4            49.0   79.6       57.1      35.0        25         0       20.0   \n5            20.5   30.7       45.5       0.0         0         0        0.0   \n6            90.5   73.7       28.6      40.0        10        30       26.7   \n7            70.0   73.0       77.3      30.0         0         0       10.0   \n8            75.0   75.0       54.5       0.0         0         0        0.0   \n9            16.0   28.9       40.9      25.0         0        40       21.7   \n10           55.5   37.2       50.0      35.0        30        70       45.0   \n11           73.5   59.4       72.7      45.0        15        30       30.0   \n12           80.5   84.7       68.2      75.0        25        40       46.7   \n13           60.0   46.5       45.5      35.0        50        50       45.0   \n14           65.0   63.5       38.9       0.0        30        80       36.7   \n15           62.0   62.3       41.2      50.0         0        30       26.7   \n16           78.0   68.7       58.8       0.0        15        10        8.3   \n17           18.0   29.7       36.8       0.0         0         0        0.0   \n18           72.0   66.3       17.4       0.0         0        30       10.0   \n19           73.5   74.4        9.1       0.0        70        30       33.3   \n20           38.5   45.4       23.8      10.0         0         0        3.3   \n21           90.0   43.5       45.0      20.0        30         0       16.7   \n22           86.0   79.4       72.7      40.0         0        40       26.7   \n23           48.0   49.2       35.3       0.0        35        20       18.3   \n24           78.5   61.4       59.1      30.0        15         0       15.0   \n25           83.0   78.2       70.8      10.0       100         0       36.7   \n26           83.5   55.9       58.8      30.0        30        20       26.7   \n27            0.0   22.5       58.8       0.0         0         0        0.0   \n28           50.0   65.0       45.5      65.0         0        10       25.0   \n29           95.0   75.5       61.9      40.0        30        30       33.3   \n...           ...    ...        ...       ...       ...       ...        ...   \n103497        0.0    0.0        0.0       0.0         0         0        0.0   \n103498        0.0   45.0       50.0      25.0         0        30       18.3   \n103499       40.5   61.2       71.4      70.0         0         0       23.3   \n103500       41.5   31.6       36.4      15.0        30        25       23.3   \n103501       20.0   23.0       20.0       0.0         0         0        0.0   \n103502       46.5   33.6       47.8       0.0        90        30       40.0   \n103503       25.0   32.5       39.1      10.0        85        30       41.7   \n103504       48.0   56.7       35.0       0.0         0         0        0.0   \n103505       45.5   48.2       52.4      60.0        35         0       31.7   \n103506       54.0   51.6       68.0      25.0        70        15       36.7   \n103507       52.0   50.8       35.0      25.0        50         0       25.0   \n103508       26.0   32.9       40.0       5.0        10         5        6.7   \n103509       64.0   48.1       30.4      25.0        10        30       21.7   \n103510       52.0   58.3       36.4      55.0        15        40       36.7   \n103511       59.5   53.8       40.0       0.0         5         0        1.7   \n103512       68.5   42.4       36.0      12.5         0        25       12.5   \n103513       47.0   41.3       25.0       0.0         0        10        3.3   \n103514       12.5   35.0       36.4      20.0        30        15       21.7   \n103515       41.5   54.1       27.8      15.0        90        60       55.0   \n103516       23.0    9.2       26.1       0.0         0         0        0.0   \n103517        0.0   37.5       25.0       0.0         0         0        0.0   \n103518        0.0   15.0       40.0       0.0         0         0        0.0   \n103519       78.5   76.4       64.0      30.0        45        65       46.7   \n103520       39.5   45.8       36.8      35.0        60        40       45.0   \n103521       53.0   51.2       69.6      85.0        10        40       45.0   \n103522       36.5   44.6       81.0      60.0        30        30       40.0   \n103523        0.0   37.5       30.0       0.0         0         0        0.0   \n103524       39.0   60.6       25.0       5.0         5        30       13.3   \n103525       60.5   54.2       66.7      80.0        15         0       31.7   \n103526       52.5   51.0       94.4      15.0        60        90       55.0   \n\n        nt_ce  nt_ger  \n0        32.9    36.1  \n1        64.2    70.0  \n2        52.7    62.3  \n3        34.8    45.4  \n4        51.5    58.5  \n5        38.7    36.7  \n6        28.3    39.7  \n7        67.2    68.7  \n8        46.3    53.5  \n9        38.0    35.7  \n10       49.3    46.3  \n11       66.3    64.6  \n12       65.0    69.9  \n13       45.4    45.7  \n14       38.6    44.8  \n15       39.0    44.8  \n16       51.2    55.6  \n17       31.3    30.9  \n18       16.3    28.8  \n19       12.7    28.1  \n20       20.7    26.9  \n21       40.8    41.5  \n22       65.8    69.2  \n23       32.8    36.9  \n24       52.5    54.7  \n25       65.7    68.8  \n26       54.0    54.5  \n27       50.0    43.1  \n28       42.4    48.1  \n29       57.6    62.1  \n...       ...     ...  \n103497    0.0     0.0  \n103498   45.2    45.2  \n103499   64.2    63.5  \n103500   34.4    33.7  \n103501   17.0    18.5  \n103502   46.6    43.4  \n103503   39.5    37.8  \n103504   29.8    36.5  \n103505   49.3    49.0  \n103506   63.3    60.4  \n103507   33.5    37.8  \n103508   35.0    34.5  \n103509   29.1    33.9  \n103510   36.4    41.9  \n103511   34.3    39.2  \n103512   32.5    35.0  \n103513   21.7    26.6  \n103514   34.2    34.4  \n103515   31.9    37.5  \n103516   22.2    19.0  \n103517   21.3    25.4  \n103518   34.0    29.3  \n103519   61.4    65.2  \n103520   38.0    40.0  \n103521   65.9    62.2  \n103522   74.9    67.3  \n103523   25.5    28.5  \n103524   23.2    32.6  \n103525   61.5    59.7  \n103526   88.5    79.1  \n\n[103527 rows x 24 columns]"
          },
          "metadata": {}
        }
      ]
    },
    {
      "metadata": {},
      "cell_type": "markdown",
      "source": "**O trecho seguinte mostra as colunas (atributos) que foram lidos do arquivo:**"
    },
    {
      "metadata": {
        "trusted": true
      },
      "cell_type": "code",
      "source": "print(\"Column headers\", df.columns)",
      "execution_count": 55,
      "outputs": [
        {
          "output_type": "stream",
          "text": "Column headers Index(['nu_ano', 'co_grupo', 'co_ies', 'co_catad', 'co_orgac',\n       'co_munic_curso', 'co_uf_curso', 'co_regiao_curso', 'nu_idade',\n       'tp_sexo', 'ano_fim_2g', 'ano_in_grad', 'nt_obj_fg', 'nt_fg_d1',\n       'nt_fg_d2', 'nt_dis_fg', 'nt_fg', 'nt_obj_ce', 'nt_ce_d1', 'nt_ce_d2',\n       'nt_ce_d3', 'nt_dis_ce', 'nt_ce', 'nt_ger'],\n      dtype='object')\n",
          "name": "stdout"
        }
      ]
    },
    {
      "metadata": {},
      "cell_type": "markdown",
      "source": "**A definição de o que significa cada coluna está disponível no portal do INEP (mais especificamente em uma subpasta dentro do arquivo disponível em http://download.inep.gov.br/microdados/Enade_Microdados/microdados_enade_2014.zip).**\n\n**O trecho seguinte mostra um sumário estatístico do arquivo:**"
    },
    {
      "metadata": {
        "trusted": true
      },
      "cell_type": "code",
      "source": "df.describe()",
      "execution_count": 56,
      "outputs": [
        {
          "output_type": "execute_result",
          "execution_count": 56,
          "data": {
            "text/html": "<div>\n<table border=\"1\" class=\"dataframe\">\n  <thead>\n    <tr style=\"text-align: right;\">\n      <th></th>\n      <th>nu_ano</th>\n      <th>co_grupo</th>\n      <th>co_ies</th>\n      <th>co_catad</th>\n      <th>co_orgac</th>\n      <th>co_munic_curso</th>\n      <th>co_uf_curso</th>\n      <th>co_regiao_curso</th>\n      <th>nu_idade</th>\n      <th>ano_fim_2g</th>\n      <th>...</th>\n      <th>nt_fg_d2</th>\n      <th>nt_dis_fg</th>\n      <th>nt_fg</th>\n      <th>nt_obj_ce</th>\n      <th>nt_ce_d1</th>\n      <th>nt_ce_d2</th>\n      <th>nt_ce_d3</th>\n      <th>nt_dis_ce</th>\n      <th>nt_ce</th>\n      <th>nt_ger</th>\n    </tr>\n  </thead>\n  <tbody>\n    <tr>\n      <th>count</th>\n      <td>103527.000000</td>\n      <td>103527.000000</td>\n      <td>103527.000000</td>\n      <td>103527.000000</td>\n      <td>103527.000000</td>\n      <td>1.035270e+05</td>\n      <td>103527.000000</td>\n      <td>103527.000000</td>\n      <td>103527.000000</td>\n      <td>103527.000000</td>\n      <td>...</td>\n      <td>103527.000000</td>\n      <td>103527.000000</td>\n      <td>103527.00000</td>\n      <td>103527.000000</td>\n      <td>103527.000000</td>\n      <td>103527.000000</td>\n      <td>103527.000000</td>\n      <td>103527.000000</td>\n      <td>103527.000000</td>\n      <td>103527.000000</td>\n    </tr>\n    <tr>\n      <th>mean</th>\n      <td>2012.929622</td>\n      <td>1170.901639</td>\n      <td>1334.117206</td>\n      <td>3579.492567</td>\n      <td>3843.070339</td>\n      <td>3.488438e+06</td>\n      <td>34.699875</td>\n      <td>3.130806</td>\n      <td>29.121872</td>\n      <td>2003.448434</td>\n      <td>...</td>\n      <td>45.180745</td>\n      <td>43.721237</td>\n      <td>47.55058</td>\n      <td>42.854823</td>\n      <td>19.893603</td>\n      <td>19.492548</td>\n      <td>23.193515</td>\n      <td>20.865545</td>\n      <td>39.561384</td>\n      <td>41.571029</td>\n    </tr>\n    <tr>\n      <th>std</th>\n      <td>0.912064</td>\n      <td>1816.870645</td>\n      <td>2112.197192</td>\n      <td>4791.183458</td>\n      <td>4873.211331</td>\n      <td>8.988108e+05</td>\n      <td>8.993021</td>\n      <td>1.002039</td>\n      <td>8.112592</td>\n      <td>6.464371</td>\n      <td>...</td>\n      <td>27.271509</td>\n      <td>24.101488</td>\n      <td>18.06025</td>\n      <td>17.687189</td>\n      <td>24.946590</td>\n      <td>24.545521</td>\n      <td>27.024691</td>\n      <td>18.569604</td>\n      <td>16.296952</td>\n      <td>14.722521</td>\n    </tr>\n    <tr>\n      <th>min</th>\n      <td>2012.000000</td>\n      <td>1.000000</td>\n      <td>1.000000</td>\n      <td>1.000000</td>\n      <td>1.000000</td>\n      <td>1.100023e+06</td>\n      <td>11.000000</td>\n      <td>1.000000</td>\n      <td>18.000000</td>\n      <td>1945.000000</td>\n      <td>...</td>\n      <td>0.000000</td>\n      <td>0.000000</td>\n      <td>0.00000</td>\n      <td>0.000000</td>\n      <td>0.000000</td>\n      <td>0.000000</td>\n      <td>0.000000</td>\n      <td>0.000000</td>\n      <td>0.000000</td>\n      <td>0.000000</td>\n    </tr>\n    <tr>\n      <th>25%</th>\n      <td>2012.000000</td>\n      <td>6.000000</td>\n      <td>322.000000</td>\n      <td>2.000000</td>\n      <td>1.000000</td>\n      <td>3.106200e+06</td>\n      <td>31.000000</td>\n      <td>3.000000</td>\n      <td>23.000000</td>\n      <td>2001.000000</td>\n      <td>...</td>\n      <td>27.000000</td>\n      <td>30.000000</td>\n      <td>35.60000</td>\n      <td>30.000000</td>\n      <td>0.000000</td>\n      <td>0.000000</td>\n      <td>0.000000</td>\n      <td>3.300000</td>\n      <td>27.600000</td>\n      <td>31.000000</td>\n    </tr>\n    <tr>\n      <th>50%</th>\n      <td>2013.000000</td>\n      <td>84.000000</td>\n      <td>591.000000</td>\n      <td>4.000000</td>\n      <td>3.000000</td>\n      <td>3.529401e+06</td>\n      <td>35.000000</td>\n      <td>3.000000</td>\n      <td>26.000000</td>\n      <td>2006.000000</td>\n      <td>...</td>\n      <td>50.000000</td>\n      <td>47.500000</td>\n      <td>48.00000</td>\n      <td>42.100000</td>\n      <td>10.000000</td>\n      <td>10.000000</td>\n      <td>15.000000</td>\n      <td>18.300000</td>\n      <td>38.700000</td>\n      <td>41.200000</td>\n    </tr>\n    <tr>\n      <th>75%</th>\n      <td>2014.000000</td>\n      <td>2001.000000</td>\n      <td>1491.000000</td>\n      <td>10002.000000</td>\n      <td>10022.000000</td>\n      <td>4.113700e+06</td>\n      <td>41.000000</td>\n      <td>4.000000</td>\n      <td>33.000000</td>\n      <td>2008.000000</td>\n      <td>...</td>\n      <td>65.000000</td>\n      <td>61.000000</td>\n      <td>60.20000</td>\n      <td>55.000000</td>\n      <td>35.000000</td>\n      <td>35.000000</td>\n      <td>40.000000</td>\n      <td>33.300000</td>\n      <td>50.800000</td>\n      <td>51.800000</td>\n    </tr>\n    <tr>\n      <th>max</th>\n      <td>2014.000000</td>\n      <td>6405.000000</td>\n      <td>19512.000000</td>\n      <td>10009.000000</td>\n      <td>10028.000000</td>\n      <td>5.300108e+06</td>\n      <td>53.000000</td>\n      <td>5.000000</td>\n      <td>88.000000</td>\n      <td>2014.000000</td>\n      <td>...</td>\n      <td>100.000000</td>\n      <td>98.500000</td>\n      <td>99.00000</td>\n      <td>100.000000</td>\n      <td>100.000000</td>\n      <td>100.000000</td>\n      <td>100.000000</td>\n      <td>100.000000</td>\n      <td>94.300000</td>\n      <td>94.100000</td>\n    </tr>\n  </tbody>\n</table>\n<p>8 rows × 23 columns</p>\n</div>",
            "text/plain": "              nu_ano       co_grupo         co_ies       co_catad  \\\ncount  103527.000000  103527.000000  103527.000000  103527.000000   \nmean     2012.929622    1170.901639    1334.117206    3579.492567   \nstd         0.912064    1816.870645    2112.197192    4791.183458   \nmin      2012.000000       1.000000       1.000000       1.000000   \n25%      2012.000000       6.000000     322.000000       2.000000   \n50%      2013.000000      84.000000     591.000000       4.000000   \n75%      2014.000000    2001.000000    1491.000000   10002.000000   \nmax      2014.000000    6405.000000   19512.000000   10009.000000   \n\n            co_orgac  co_munic_curso    co_uf_curso  co_regiao_curso  \\\ncount  103527.000000    1.035270e+05  103527.000000    103527.000000   \nmean     3843.070339    3.488438e+06      34.699875         3.130806   \nstd      4873.211331    8.988108e+05       8.993021         1.002039   \nmin         1.000000    1.100023e+06      11.000000         1.000000   \n25%         1.000000    3.106200e+06      31.000000         3.000000   \n50%         3.000000    3.529401e+06      35.000000         3.000000   \n75%     10022.000000    4.113700e+06      41.000000         4.000000   \nmax     10028.000000    5.300108e+06      53.000000         5.000000   \n\n            nu_idade     ano_fim_2g      ...             nt_fg_d2  \\\ncount  103527.000000  103527.000000      ...        103527.000000   \nmean       29.121872    2003.448434      ...            45.180745   \nstd         8.112592       6.464371      ...            27.271509   \nmin        18.000000    1945.000000      ...             0.000000   \n25%        23.000000    2001.000000      ...            27.000000   \n50%        26.000000    2006.000000      ...            50.000000   \n75%        33.000000    2008.000000      ...            65.000000   \nmax        88.000000    2014.000000      ...           100.000000   \n\n           nt_dis_fg         nt_fg      nt_obj_ce       nt_ce_d1  \\\ncount  103527.000000  103527.00000  103527.000000  103527.000000   \nmean       43.721237      47.55058      42.854823      19.893603   \nstd        24.101488      18.06025      17.687189      24.946590   \nmin         0.000000       0.00000       0.000000       0.000000   \n25%        30.000000      35.60000      30.000000       0.000000   \n50%        47.500000      48.00000      42.100000      10.000000   \n75%        61.000000      60.20000      55.000000      35.000000   \nmax        98.500000      99.00000     100.000000     100.000000   \n\n            nt_ce_d2       nt_ce_d3      nt_dis_ce          nt_ce  \\\ncount  103527.000000  103527.000000  103527.000000  103527.000000   \nmean       19.492548      23.193515      20.865545      39.561384   \nstd        24.545521      27.024691      18.569604      16.296952   \nmin         0.000000       0.000000       0.000000       0.000000   \n25%         0.000000       0.000000       3.300000      27.600000   \n50%        10.000000      15.000000      18.300000      38.700000   \n75%        35.000000      40.000000      33.300000      50.800000   \nmax       100.000000     100.000000     100.000000      94.300000   \n\n              nt_ger  \ncount  103527.000000  \nmean       41.571029  \nstd        14.722521  \nmin         0.000000  \n25%        31.000000  \n50%        41.200000  \n75%        51.800000  \nmax        94.100000  \n\n[8 rows x 23 columns]"
          },
          "metadata": {}
        }
      ]
    },
    {
      "metadata": {},
      "cell_type": "markdown",
      "source": "**Perceba que alguns atributos são *categóricos* e algumas das métricas não fazem sentido (p. ex., média para o ano). Mas podemos mudar a semêntica dos atributos... **\n\n**Por exemplo, o trecho seguinte cria um novo atributo chamado \"ano\", tendo como base o atributo \"nu_ano\", mas em formato categórico. Depois, solicita para gerar dados estatísticos deste novo atributo:**"
    },
    {
      "metadata": {
        "trusted": true
      },
      "cell_type": "code",
      "source": "df[\"ano\"] = df[\"nu_ano\"].astype(\"category\")\ndf[\"ano\"].describe()",
      "execution_count": 57,
      "outputs": [
        {
          "output_type": "execute_result",
          "execution_count": 57,
          "data": {
            "text/plain": "count     103527\nunique         3\ntop         2012\nfreq       46959\nName: ano, dtype: int64"
          },
          "metadata": {}
        }
      ]
    },
    {
      "metadata": {
        "collapsed": true
      },
      "cell_type": "markdown",
      "source": "**Também podemos pegar um subconjunto dos dados ou um dos atributos e colocá-los em ordem. O trecho seguinte seleciona a coluna relativa ao ano de conclusão do 2o grau e mostra os registros em ordem crescente, por este campo:**"
    },
    {
      "metadata": {
        "trusted": true
      },
      "cell_type": "code",
      "source": "df['ano_fim_2g'].sort_values()",
      "execution_count": 58,
      "outputs": [
        {
          "output_type": "execute_result",
          "execution_count": 58,
          "data": {
            "text/plain": "80035    1945\n36663    1955\n65320    1956\n60939    1957\n64470    1958\n65673    1961\n62917    1961\n62079    1962\n17514    1963\n69664    1963\n53979    1964\n75886    1964\n58569    1964\n93151    1964\n52097    1964\n75293    1965\n22856    1965\n39059    1965\n76270    1965\n79190    1965\n51204    1965\n32965    1965\n9308     1965\n21981    1966\n74918    1966\n43190    1966\n41168    1966\n50273    1966\n32229    1966\n32475    1966\n         ... \n34033    2013\n29004    2013\n21719    2013\n25329    2013\n35671    2013\n17754    2013\n20861    2013\n889      2013\n11009    2013\n17735    2013\n18888    2013\n9754     2013\n30271    2013\n29809    2013\n34141    2013\n37998    2013\n36998    2013\n1563     2013\n4092     2013\n4413     2013\n8641     2013\n32283    2013\n243      2013\n432      2013\n2929     2013\n13386    2013\n13603    2013\n12269    2014\n16448    2014\n30034    2014\nName: ano_fim_2g, dtype: int64"
          },
          "metadata": {}
        }
      ]
    },
    {
      "metadata": {
        "collapsed": true
      },
      "cell_type": "markdown",
      "source": "**Já o trecho seguinte cria uma nova tabela (data-frame) que contém as notas gerais dos alunos (Nota bruta da prova, i.e., a média ponderada da formação geral (25%) e componente específico (75%) (0 a 100)), ordenadas por ano de finalização do 2o grau:**"
    },
    {
      "metadata": {
        "trusted": true,
        "scrolled": false
      },
      "cell_type": "code",
      "source": "df2 = df[['ano_fim_2g','nt_ger']]\ndf2.sort_values(by='ano_fim_2g')",
      "execution_count": 59,
      "outputs": [
        {
          "output_type": "execute_result",
          "execution_count": 59,
          "data": {
            "text/html": "<div>\n<table border=\"1\" class=\"dataframe\">\n  <thead>\n    <tr style=\"text-align: right;\">\n      <th></th>\n      <th>ano_fim_2g</th>\n      <th>nt_ger</th>\n    </tr>\n  </thead>\n  <tbody>\n    <tr>\n      <th>80035</th>\n      <td>1945</td>\n      <td>12.8</td>\n    </tr>\n    <tr>\n      <th>36663</th>\n      <td>1955</td>\n      <td>49.3</td>\n    </tr>\n    <tr>\n      <th>65320</th>\n      <td>1956</td>\n      <td>44.2</td>\n    </tr>\n    <tr>\n      <th>60939</th>\n      <td>1957</td>\n      <td>55.5</td>\n    </tr>\n    <tr>\n      <th>64470</th>\n      <td>1958</td>\n      <td>37.5</td>\n    </tr>\n    <tr>\n      <th>65673</th>\n      <td>1961</td>\n      <td>29.7</td>\n    </tr>\n    <tr>\n      <th>62917</th>\n      <td>1961</td>\n      <td>26.2</td>\n    </tr>\n    <tr>\n      <th>62079</th>\n      <td>1962</td>\n      <td>30.6</td>\n    </tr>\n    <tr>\n      <th>17514</th>\n      <td>1963</td>\n      <td>17.8</td>\n    </tr>\n    <tr>\n      <th>69664</th>\n      <td>1963</td>\n      <td>47.6</td>\n    </tr>\n    <tr>\n      <th>53979</th>\n      <td>1964</td>\n      <td>29.2</td>\n    </tr>\n    <tr>\n      <th>75886</th>\n      <td>1964</td>\n      <td>54.4</td>\n    </tr>\n    <tr>\n      <th>58569</th>\n      <td>1964</td>\n      <td>39.8</td>\n    </tr>\n    <tr>\n      <th>93151</th>\n      <td>1964</td>\n      <td>30.0</td>\n    </tr>\n    <tr>\n      <th>52097</th>\n      <td>1964</td>\n      <td>38.4</td>\n    </tr>\n    <tr>\n      <th>75293</th>\n      <td>1965</td>\n      <td>26.1</td>\n    </tr>\n    <tr>\n      <th>22856</th>\n      <td>1965</td>\n      <td>43.2</td>\n    </tr>\n    <tr>\n      <th>39059</th>\n      <td>1965</td>\n      <td>24.8</td>\n    </tr>\n    <tr>\n      <th>76270</th>\n      <td>1965</td>\n      <td>45.6</td>\n    </tr>\n    <tr>\n      <th>79190</th>\n      <td>1965</td>\n      <td>38.0</td>\n    </tr>\n    <tr>\n      <th>51204</th>\n      <td>1965</td>\n      <td>35.0</td>\n    </tr>\n    <tr>\n      <th>32965</th>\n      <td>1965</td>\n      <td>34.0</td>\n    </tr>\n    <tr>\n      <th>9308</th>\n      <td>1965</td>\n      <td>47.0</td>\n    </tr>\n    <tr>\n      <th>21981</th>\n      <td>1966</td>\n      <td>29.2</td>\n    </tr>\n    <tr>\n      <th>74918</th>\n      <td>1966</td>\n      <td>33.0</td>\n    </tr>\n    <tr>\n      <th>43190</th>\n      <td>1966</td>\n      <td>47.8</td>\n    </tr>\n    <tr>\n      <th>41168</th>\n      <td>1966</td>\n      <td>33.9</td>\n    </tr>\n    <tr>\n      <th>50273</th>\n      <td>1966</td>\n      <td>21.1</td>\n    </tr>\n    <tr>\n      <th>32229</th>\n      <td>1966</td>\n      <td>57.8</td>\n    </tr>\n    <tr>\n      <th>32475</th>\n      <td>1966</td>\n      <td>52.7</td>\n    </tr>\n    <tr>\n      <th>...</th>\n      <td>...</td>\n      <td>...</td>\n    </tr>\n    <tr>\n      <th>34033</th>\n      <td>2013</td>\n      <td>69.6</td>\n    </tr>\n    <tr>\n      <th>29004</th>\n      <td>2013</td>\n      <td>36.9</td>\n    </tr>\n    <tr>\n      <th>21719</th>\n      <td>2013</td>\n      <td>44.2</td>\n    </tr>\n    <tr>\n      <th>25329</th>\n      <td>2013</td>\n      <td>23.0</td>\n    </tr>\n    <tr>\n      <th>35671</th>\n      <td>2013</td>\n      <td>56.7</td>\n    </tr>\n    <tr>\n      <th>17754</th>\n      <td>2013</td>\n      <td>51.5</td>\n    </tr>\n    <tr>\n      <th>20861</th>\n      <td>2013</td>\n      <td>51.9</td>\n    </tr>\n    <tr>\n      <th>889</th>\n      <td>2013</td>\n      <td>58.9</td>\n    </tr>\n    <tr>\n      <th>11009</th>\n      <td>2013</td>\n      <td>41.0</td>\n    </tr>\n    <tr>\n      <th>17735</th>\n      <td>2013</td>\n      <td>47.7</td>\n    </tr>\n    <tr>\n      <th>18888</th>\n      <td>2013</td>\n      <td>53.6</td>\n    </tr>\n    <tr>\n      <th>9754</th>\n      <td>2013</td>\n      <td>36.2</td>\n    </tr>\n    <tr>\n      <th>30271</th>\n      <td>2013</td>\n      <td>34.8</td>\n    </tr>\n    <tr>\n      <th>29809</th>\n      <td>2013</td>\n      <td>46.3</td>\n    </tr>\n    <tr>\n      <th>34141</th>\n      <td>2013</td>\n      <td>32.4</td>\n    </tr>\n    <tr>\n      <th>37998</th>\n      <td>2013</td>\n      <td>32.5</td>\n    </tr>\n    <tr>\n      <th>36998</th>\n      <td>2013</td>\n      <td>23.9</td>\n    </tr>\n    <tr>\n      <th>1563</th>\n      <td>2013</td>\n      <td>74.0</td>\n    </tr>\n    <tr>\n      <th>4092</th>\n      <td>2013</td>\n      <td>16.9</td>\n    </tr>\n    <tr>\n      <th>4413</th>\n      <td>2013</td>\n      <td>52.9</td>\n    </tr>\n    <tr>\n      <th>8641</th>\n      <td>2013</td>\n      <td>62.0</td>\n    </tr>\n    <tr>\n      <th>32283</th>\n      <td>2013</td>\n      <td>54.7</td>\n    </tr>\n    <tr>\n      <th>243</th>\n      <td>2013</td>\n      <td>42.1</td>\n    </tr>\n    <tr>\n      <th>432</th>\n      <td>2013</td>\n      <td>34.1</td>\n    </tr>\n    <tr>\n      <th>2929</th>\n      <td>2013</td>\n      <td>52.4</td>\n    </tr>\n    <tr>\n      <th>13386</th>\n      <td>2013</td>\n      <td>32.0</td>\n    </tr>\n    <tr>\n      <th>13603</th>\n      <td>2013</td>\n      <td>32.0</td>\n    </tr>\n    <tr>\n      <th>12269</th>\n      <td>2014</td>\n      <td>47.8</td>\n    </tr>\n    <tr>\n      <th>16448</th>\n      <td>2014</td>\n      <td>34.0</td>\n    </tr>\n    <tr>\n      <th>30034</th>\n      <td>2014</td>\n      <td>62.9</td>\n    </tr>\n  </tbody>\n</table>\n<p>103527 rows × 2 columns</p>\n</div>",
            "text/plain": "       ano_fim_2g  nt_ger\n80035        1945    12.8\n36663        1955    49.3\n65320        1956    44.2\n60939        1957    55.5\n64470        1958    37.5\n65673        1961    29.7\n62917        1961    26.2\n62079        1962    30.6\n17514        1963    17.8\n69664        1963    47.6\n53979        1964    29.2\n75886        1964    54.4\n58569        1964    39.8\n93151        1964    30.0\n52097        1964    38.4\n75293        1965    26.1\n22856        1965    43.2\n39059        1965    24.8\n76270        1965    45.6\n79190        1965    38.0\n51204        1965    35.0\n32965        1965    34.0\n9308         1965    47.0\n21981        1966    29.2\n74918        1966    33.0\n43190        1966    47.8\n41168        1966    33.9\n50273        1966    21.1\n32229        1966    57.8\n32475        1966    52.7\n...           ...     ...\n34033        2013    69.6\n29004        2013    36.9\n21719        2013    44.2\n25329        2013    23.0\n35671        2013    56.7\n17754        2013    51.5\n20861        2013    51.9\n889          2013    58.9\n11009        2013    41.0\n17735        2013    47.7\n18888        2013    53.6\n9754         2013    36.2\n30271        2013    34.8\n29809        2013    46.3\n34141        2013    32.4\n37998        2013    32.5\n36998        2013    23.9\n1563         2013    74.0\n4092         2013    16.9\n4413         2013    52.9\n8641         2013    62.0\n32283        2013    54.7\n243          2013    42.1\n432          2013    34.1\n2929         2013    52.4\n13386        2013    32.0\n13603        2013    32.0\n12269        2014    47.8\n16448        2014    34.0\n30034        2014    62.9\n\n[103527 rows x 2 columns]"
          },
          "metadata": {}
        }
      ]
    },
    {
      "metadata": {},
      "cell_type": "markdown",
      "source": "**Para ter uma ideia dos tipos de visualização disponíveis, consulte: \nhttp://pandas.pydata.org/pandas-docs/version/0.9.0/visualization.html**\n\n**Para uma visão geral (de 10 minutos) sobre o que você pode fazer com a biblioteca \"Pandas\", consulte: http://pandas.pydata.org/pandas-docs/stable/10min.html**"
    },
    {
      "metadata": {
        "collapsed": true
      },
      "cell_type": "markdown",
      "source": "Exercícios\n-----------\n\n1. Monte um gráfico em barras que mostre a quantidade de pessoas que fizeram a prova, por ano;\n2. Monte um gráfico em barras que mostre a média das notas agrupadas por ano de conclusão do 2o grau;\n3. Agrupe os dados por sexo e monte um gráfico em forma de pizza que demonstre a porcentagem geral de pessoas por sexo;\n4. Monte uma tabela que demonstre informações estatísticas relacionadas com a nota (média, desvio padrão, variância), por ano de conclusão."
    },
    {
      "metadata": {
        "trusted": true
      },
      "cell_type": "code",
      "source": "%matplotlib inline\nimport matplotlib.pyplot as plt\n\ndf3 = df.groupby('nu_ano')\n#df3.size().plot.bar(color=['red', 'blue','green'])\n\ndf6 = df[['ano_fim_2g','nt_ger']]\ndf7 = df6.groupby('ano_fim_2g').mean()\nprint (df7)\ndf7 = df7[0:5]\n#df7.plot.bar()\n\ndf5 = df.groupby('tp_sexo')\n#df5.size().plot.pie(colors=['red', 'blue'],autopct='%1.1f%%')\n\n#df6 = df[['nt_ger','ano_fim_2g']]\ndf6[\"ano\"] = df[\"ano_fim_2g\"].astype(\"category\")\n#df6.describe()",
      "execution_count": 12,
      "outputs": [
        {
          "output_type": "stream",
          "text": "               nt_ger\nano_fim_2g           \n1945        12.800000\n1955        49.300000\n1956        44.200000\n1957        55.500000\n1958        37.500000\n1961        27.950000\n1962        30.600000\n1963        32.700000\n1964        38.360000\n1965        36.712500\n1966        39.357143\n1967        34.500000\n1968        39.033333\n1969        42.881250\n1970        39.263333\n1971        44.826667\n1972        37.751613\n1973        40.588889\n1974        38.061290\n1975        38.055556\n1976        41.127397\n1977        40.360156\n1978        38.880240\n1979        38.122727\n1980        42.706584\n1981        41.705200\n1982        40.552830\n1983        41.418239\n1984        41.122500\n1985        41.421573\n1986        39.664612\n1987        39.928486\n1988        41.459215\n1989        41.813494\n1990        41.176245\n1991        41.502516\n1992        41.175982\n1993        41.400879\n1994        41.480811\n1995        40.595394\n1996        40.702095\n1997        40.935794\n1998        40.845816\n1999        39.558249\n2000        39.803473\n2001        39.879513\n2002        39.830795\n2003        39.646129\n2004        40.186259\n2005        40.430546\n2006        40.929693\n2007        42.194167\n2008        42.466379\n2009        45.281772\n2010        43.755796\n2011        43.657296\n2012        44.144749\n2013        45.023529\n2014        48.233333\n",
          "name": "stdout"
        },
        {
          "output_type": "stream",
          "text": "/home/nbuser/anaconda3_420/lib/python3.5/site-packages/ipykernel/__main__.py:17: SettingWithCopyWarning: \nA value is trying to be set on a copy of a slice from a DataFrame.\nTry using .loc[row_indexer,col_indexer] = value instead\n\nSee the caveats in the documentation: http://pandas.pydata.org/pandas-docs/stable/indexing.html#indexing-view-versus-copy\n",
          "name": "stderr"
        }
      ]
    }
  ],
  "metadata": {
    "kernelspec": {
      "name": "python3",
      "display_name": "Python 3",
      "language": "python"
    },
    "language_info": {
      "mimetype": "text/x-python",
      "nbconvert_exporter": "python",
      "name": "python",
      "file_extension": ".py",
      "version": "3.5.4",
      "pygments_lexer": "ipython3",
      "codemirror_mode": {
        "version": 3,
        "name": "ipython"
      }
    }
  },
  "nbformat": 4,
  "nbformat_minor": 1
}